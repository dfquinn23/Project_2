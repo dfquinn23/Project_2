{
 "cells": [
  {
   "cell_type": "code",
   "execution_count": 3,
   "metadata": {},
   "outputs": [],
   "source": [
    "# necessary libraries\n",
    "import pandas as pd\n",
    "import numpy as np\n",
    "from sklearn.preprocessing import MinMaxScaler"
   ]
  },
  {
   "cell_type": "code",
   "execution_count": null,
   "metadata": {},
   "outputs": [],
   "source": [
    "# Load historical data for midfielders\n",
    "historical_data = pd.read_csv('../data/raw/historical_player_data.csv')\n",
    "\n",
    "# Display initial data sample for midlfielders\n",
    "display(historical_data.head())"
   ]
  },
  {
   "cell_type": "code",
   "execution_count": 2,
   "metadata": {},
   "outputs": [
    {
     "ename": "SyntaxError",
     "evalue": "invalid syntax (1907080965.py, line 1)",
     "output_type": "error",
     "traceback": [
      "\u001b[0;36m  Cell \u001b[0;32mIn[2], line 1\u001b[0;36m\u001b[0m\n\u001b[0;31m    in[0]: # Import necessary libraries\u001b[0m\n\u001b[0m    ^\u001b[0m\n\u001b[0;31mSyntaxError\u001b[0m\u001b[0;31m:\u001b[0m invalid syntax\n"
     ]
    }
   ],
   "source": [
    "# Check for missing values\n",
    "print(\"Missing values in historical_data:\")\n",
    "print(historical_data.isnull().sum())\n",
    "\n",
    "# Fill missing values\n",
    "historical_data = historical_data.fillna({\n",
    "    'goals_scored': 0, \n",
    "    'assists': 0, \n",
    "    'clean_sheets': 0,\n",
    "    'minutes': 0\n",
    "    # Add other relevant columns as needed\n",
    "})\n",
    "\n",
    "# Display the first few rows to verify the changes\n",
    "print(\"\\nFirst few rows of the updated DataFrame:\")\n",
    "print(historical_data.head())\n",
    "\n",
    "# Ensure numerical columns are correctly typed\n",
    "historical_data['now_cost'] = historical_data['now_cost'].astype(float) / 10  # Convert to float and scale cost\n",
    "\n",
    "# Convert categorical columns to category types\n",
    "historical_data['position'] = historical_data['element_type'].astype('category')\n",
    "\n",
    "# Display the first few rows to verify the changes\n",
    "print(\"\\nFirst few rows of the updated DataFrame:\")\n",
    "print(historical_data.head())\n",
    "\n",
    "# Create additional features\n",
    "historical_data['points_per_game'] = historical_data['total_points'] / historical_data['minutes'].replace(0, np.nan)\n",
    "historical_data['value_for_money'] = historical_data['total_points'] / historical_data['now_cost']\n",
    "\n",
    "# Scale features if necessary (example using min-max scaling)\n",
    "scaler = MinMaxScaler()\n",
    "historical_data[['scaled_cost', 'scaled_points']] = scaler.fit_transform(historical_data[['now_cost', 'total_points']])\n",
    "\n",
    "\n",
    "# Identify outliers using IQR method\n",
    "Q1 = historical_data['total_points'].quantile(0.25)\n",
    "Q3 = historical_data['total_points'].quantile(0.75)\n",
    "IQR = Q3 - Q1\n",
    "\n",
    "# Define lower and upper bounds for acceptable range\n",
    "lower_bound = Q1 - 1.5 * IQR\n",
    "upper_bound = Q3 + 1.5 * IQR\n",
    "\n",
    "# Filter out outliers\n",
    "historical_data = historical_data[(historical_data['total_points'] >= lower_bound) & (historical_data['total_points'] <= upper_bound)]\n",
    "\n",
    "# Save the cleaned and processed historical data\n",
    "historical_data.to_csv('../data/processed/midfielders_data_processed.csv', index=False)\n",
    "print(\"Processed historical data saved successfully!\")"
   ]
  }
 ],
 "metadata": {
  "kernelspec": {
   "display_name": "dev",
   "language": "python",
   "name": "python3"
  },
  "language_info": {
   "codemirror_mode": {
    "name": "ipython",
    "version": 3
   },
   "file_extension": ".py",
   "mimetype": "text/x-python",
   "name": "python",
   "nbconvert_exporter": "python",
   "pygments_lexer": "ipython3",
   "version": "3.10.14"
  }
 },
 "nbformat": 4,
 "nbformat_minor": 2
}
