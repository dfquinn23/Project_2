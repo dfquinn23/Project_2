{
 "cells": [
  {
   "cell_type": "code",
   "execution_count": null,
   "metadata": {},
   "outputs": [],
   "source": [
    "import pandas as pd"
   ]
  },
  {
   "cell_type": "code",
   "execution_count": null,
   "metadata": {},
   "outputs": [],
   "source": [
    "fpl_forwards = pd.read_csv('')\n",
    "sorare_forwards = pd.read_csv('../sorare/sorare_data/predictions/sorare_forwards_predictions.csv')\n",
    "\n",
    "print(fpl_forwards.columns)\n",
    "print(sorare_forwards.columns)\n",
    "\n",
    "fpl_forwards = fpl_forwards.rename(columns={'first_name': 'First_Name', 'second_name': 'Last_Name', 'epl_predictions':'Predicted_Points'})\n",
    "fpl_forwards_filtered = fpl_forwards[['id', 'First_Name','Last_Name', 'Predicted_Points']]\n",
    "\n",
    "sorare_forwards_filtered = sorare_forwards[['First_Name','Last_Name', 'So_5_Scores_9', 'sorare_predictions']]\n",
    "\n",
    "print(fpl_forwards.shape)\n",
    "print(sorare_forwards.shape)\n",
    "\n",
    "print(\"------------------------\")\n",
    "\n",
    "print(fpl_forwards_filtered.shape)\n",
    "print(sorare_forwards_filtered.shape)"
   ]
  },
  {
   "cell_type": "code",
   "execution_count": null,
   "metadata": {},
   "outputs": [],
   "source": [
    "forwards = pd.merge(sorare_forwards_filtered, fpl_forwards_filtered, on=['First_Name', 'Last_Name'] )\n",
    "\n",
    "print(forwards.shape)\n",
    "\n",
    "forwards['Weighted_BOR3_Score'] = (forwards['sorare_predictions'] * 0.75) + (forwards['Predicted_Points'] * 0.25)"
   ]
  },
  {
   "cell_type": "code",
   "execution_count": null,
   "metadata": {},
   "outputs": [],
   "source": [
    "forwards = forwards.sort_values('Weighted_BOR3_Score', ascending=False)\n",
    "\n",
    "forwards.to_csv('../data/predictions/weighted_bor3_forwards.csv')\n",
    "forwards"
   ]
  }
 ],
 "metadata": {
  "language_info": {
   "name": "python"
  }
 },
 "nbformat": 4,
 "nbformat_minor": 2
}
