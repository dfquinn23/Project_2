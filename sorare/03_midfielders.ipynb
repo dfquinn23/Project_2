{
 "cells": [
  {
   "cell_type": "code",
   "execution_count": 1,
   "metadata": {},
   "outputs": [],
   "source": [
    "import pickle\n",
    "import pandas as pd\n",
    "import numpy as np\n",
    "import matplotlib.pyplot as plt\n",
    "\n",
    "import xgboost as xgb\n",
    "import lightgbm as lgb\n",
    "from sklearn.linear_model import ElasticNet\n",
    "# from sklearn.preprocessing import LabelEncoder\n",
    "\n",
    "from sklearn.model_selection import train_test_split\n",
    "from sklearn.metrics import mean_squared_error\n",
    "\n",
    "from utils_data_structures import col_prefixes"
   ]
  },
  {
   "cell_type": "code",
   "execution_count": 2,
   "metadata": {},
   "outputs": [
    {
     "name": "stdout",
     "output_type": "stream",
     "text": [
      "0\n"
     ]
    },
    {
     "data": {
      "text/plain": [
       "array(['Forward', 'Defender', 'Midfielder', 'Goalkeeper', 'Coach'],\n",
       "      dtype=object)"
      ]
     },
     "execution_count": 2,
     "metadata": {},
     "output_type": "execute_result"
    }
   ],
   "source": [
    "grouped_df = pd.read_csv('sorare_data/large_grouped_sorare_data.csv')\n",
    "\n",
    "grouped_df = grouped_df.fillna(0.0)\n",
    "# grouped_df = pd.get_dummies(grouped_df, columns=['Current_Club'])\n",
    "\n",
    "print(grouped_df['So_5_Scores_9'].isna().sum())\n",
    "grouped_df['Position'].unique()"
   ]
  },
  {
   "cell_type": "code",
   "execution_count": 3,
   "metadata": {},
   "outputs": [],
   "source": [
    "epl_midfielders_df = grouped_df[grouped_df['Position'] == 'Midfielder']\n",
    "epl_midfielders_df = epl_midfielders_df.drop(columns=['Display_Name', 'First_Name','Last_Name','Player_Number', 'Position', 'Current_Club'])"
   ]
  },
  {
   "cell_type": "code",
   "execution_count": 4,
   "metadata": {},
   "outputs": [
    {
     "data": {
      "text/plain": [
       "float64    309\n",
       "int64        4\n",
       "Name: count, dtype: int64"
      ]
     },
     "execution_count": 4,
     "metadata": {},
     "output_type": "execute_result"
    }
   ],
   "source": [
    "epl_midfielders_df.dtypes.value_counts()"
   ]
  },
  {
   "cell_type": "code",
   "execution_count": 5,
   "metadata": {},
   "outputs": [],
   "source": [
    "# Create X and y and split into training and testing sets\n",
    "target_column = 'So_5_Scores_9'\n",
    "columns_to_drop = [f'{col}_9' for col in col_prefixes]\n",
    "\n",
    "X = epl_midfielders_df.drop(columns=columns_to_drop)\n",
    "y = epl_midfielders_df[target_column]\n"
   ]
  },
  {
   "cell_type": "code",
   "execution_count": 6,
   "metadata": {},
   "outputs": [],
   "source": [
    "X_train, X_test, y_train, y_test = train_test_split(X, y, test_size=0.2, random_state=42)"
   ]
  },
  {
   "cell_type": "code",
   "execution_count": 7,
   "metadata": {},
   "outputs": [
    {
     "name": "stdout",
     "output_type": "stream",
     "text": [
      "RMSE: 17.16201421526611\n"
     ]
    }
   ],
   "source": [
    "# Initialize the XGBoost regressor\n",
    "xgb_model = xgb.XGBRegressor(n_estimators=1000, learning_rate=0.05, max_depth=6, random_state=42)\n",
    "\n",
    "# Train the model\n",
    "xgb_model.fit(X_train, y_train)\n",
    "\n",
    "# Make predictions\n",
    "y_pred_xgb = xgb_model.predict(X_test)\n",
    "\n",
    "# Evaluate\n",
    "y_pred_xgb_clipped = np.clip(y_pred_xgb, 0, 100)\n",
    "mse = mean_squared_error(y_test, y_pred_xgb_clipped)\n",
    "rmse = np.sqrt(mse)\n",
    "print(f'RMSE: {rmse}')"
   ]
  },
  {
   "cell_type": "code",
   "execution_count": 8,
   "metadata": {},
   "outputs": [
    {
     "name": "stdout",
     "output_type": "stream",
     "text": [
      "[LightGBM] [Info] Auto-choosing col-wise multi-threading, the overhead of testing was 0.002534 seconds.\n",
      "You can set `force_col_wise=true` to remove the overhead.\n",
      "[LightGBM] [Info] Total Bins 9197\n",
      "[LightGBM] [Info] Number of data points in the train set: 4005, number of used features: 192\n",
      "[LightGBM] [Info] Start training from score 18.861928\n",
      "[LightGBM] [Warning] No further splits with positive gain, best gain: -inf\n",
      "[LightGBM] [Warning] No further splits with positive gain, best gain: -inf\n",
      "[LightGBM] [Warning] No further splits with positive gain, best gain: -inf\n",
      "[LightGBM] [Warning] No further splits with positive gain, best gain: -inf\n",
      "[LightGBM] [Warning] No further splits with positive gain, best gain: -inf\n",
      "[LightGBM] [Warning] No further splits with positive gain, best gain: -inf\n",
      "[LightGBM] [Warning] No further splits with positive gain, best gain: -inf\n",
      "RMSE: 16.413085639199984\n"
     ]
    }
   ],
   "source": [
    "# Initialize the LightGBM regressor\n",
    "lgbm_model = lgb.LGBMRegressor(\n",
    "    boosting_type='gbdt',  # Gradient boosting decision tree\n",
    "    n_estimators=400,      # Number of boosting rounds (trees)\n",
    "    learning_rate=0.01,     # Step size shrinkage\n",
    "    max_depth=10,          # Unlimited depth of trees (-1 means no limit)\n",
    "    random_state=42,        # For reproducibility\n",
    ")\n",
    "# \n",
    "\n",
    "# Train the model\n",
    "lgbm_model.fit(X_train, y_train)\n",
    "# Make predictions\n",
    "y_pred_lgbm = lgbm_model.predict(X_test)\n",
    "\n",
    "# Evaluate\n",
    "y_pred_lgmb_clipped = np.clip(y_pred_lgbm, 0, 100)\n",
    "mse = mean_squared_error(y_test, y_pred_lgmb_clipped)\n",
    "rmse = np.sqrt(mse)\n",
    "print(f'RMSE: {rmse}')"
   ]
  },
  {
   "cell_type": "code",
   "execution_count": 9,
   "metadata": {},
   "outputs": [
    {
     "name": "stdout",
     "output_type": "stream",
     "text": [
      "RMSE: 16.558437906370084\n"
     ]
    },
    {
     "name": "stderr",
     "output_type": "stream",
     "text": [
      "c:\\Users\\mttca\\nwuai\\course_materials\\class_work\\projects\\Project_2\\.venv\\Lib\\site-packages\\sklearn\\linear_model\\_coordinate_descent.py:697: ConvergenceWarning: Objective did not converge. You might want to increase the number of iterations, check the scale of the features or consider increasing regularisation. Duality gap: 4.869e+05, tolerance: 2.482e+02\n",
      "  model = cd_fast.enet_coordinate_descent(\n"
     ]
    }
   ],
   "source": [
    "\n",
    "# Initialize ElasticNet\n",
    "elastic_model = ElasticNet(alpha=0.05, l1_ratio=0.9, random_state=42)\n",
    "\n",
    "# Train the model\n",
    "elastic_model.fit(X_train, y_train)\n",
    "\n",
    "# Make predictions\n",
    "y_pred_en = elastic_model.predict(X_test)\n",
    "\n",
    "# Evaluate\n",
    "y_pred_en_clipped = np.clip(y_pred_en, 0, 100)\n",
    "mse = mean_squared_error(y_test, y_pred_en_clipped)\n",
    "rmse = np.sqrt(mse)\n",
    "print(f'RMSE: {rmse}')"
   ]
  },
  {
   "cell_type": "code",
   "execution_count": 10,
   "metadata": {},
   "outputs": [
    {
     "name": "stdout",
     "output_type": "stream",
     "text": [
      "XGB Model saved successfully!\n",
      "LGBM Model saved successfully!\n",
      "Elastic Model saved successfully!\n",
      "Models saved successfully!\n"
     ]
    }
   ],
   "source": [
    "with open('sorare_models/midfielders_xgb_model.pkl', 'wb') as file:\n",
    "    pickle.dump(xgb_model, file)\n",
    "    print(\"XGB Model saved successfully!\")\n",
    "with open('sorare_models/midfielders_lgbm_model.pkl', 'wb') as file:\n",
    "    pickle.dump(lgbm_model, file)\n",
    "    print(\"LGBM Model saved successfully!\")\n",
    "\n",
    "with open('sorare_models/midfielders_elastic_model.pkl', 'wb') as file:\n",
    "    pickle.dump(elastic_model, file)\n",
    "    print(\"Elastic Model saved successfully!\")\n",
    "\n",
    "print(\"Models saved successfully!\")"
   ]
  },
  {
   "cell_type": "code",
   "execution_count": 11,
   "metadata": {},
   "outputs": [
    {
     "data": {
      "text/html": [
       "<div>\n",
       "<style scoped>\n",
       "    .dataframe tbody tr th:only-of-type {\n",
       "        vertical-align: middle;\n",
       "    }\n",
       "\n",
       "    .dataframe tbody tr th {\n",
       "        vertical-align: top;\n",
       "    }\n",
       "\n",
       "    .dataframe thead th {\n",
       "        text-align: right;\n",
       "    }\n",
       "</style>\n",
       "<table border=\"1\" class=\"dataframe\">\n",
       "  <thead>\n",
       "    <tr style=\"text-align: right;\">\n",
       "      <th></th>\n",
       "      <th>So_5_Scores_9</th>\n",
       "      <th>XBG_Predictions</th>\n",
       "      <th>LGBM_Predictions</th>\n",
       "      <th>EN_Predictions</th>\n",
       "    </tr>\n",
       "  </thead>\n",
       "  <tbody>\n",
       "    <tr>\n",
       "      <th>12518</th>\n",
       "      <td>0.0</td>\n",
       "      <td>4.622050</td>\n",
       "      <td>7.661548</td>\n",
       "      <td>11.889125</td>\n",
       "    </tr>\n",
       "    <tr>\n",
       "      <th>6743</th>\n",
       "      <td>0.0</td>\n",
       "      <td>4.362611</td>\n",
       "      <td>5.574336</td>\n",
       "      <td>11.679229</td>\n",
       "    </tr>\n",
       "    <tr>\n",
       "      <th>14003</th>\n",
       "      <td>0.0</td>\n",
       "      <td>0.182221</td>\n",
       "      <td>1.774496</td>\n",
       "      <td>4.420532</td>\n",
       "    </tr>\n",
       "    <tr>\n",
       "      <th>11538</th>\n",
       "      <td>0.0</td>\n",
       "      <td>0.173354</td>\n",
       "      <td>0.865476</td>\n",
       "      <td>0.532449</td>\n",
       "    </tr>\n",
       "    <tr>\n",
       "      <th>9647</th>\n",
       "      <td>49.5</td>\n",
       "      <td>41.107269</td>\n",
       "      <td>38.984004</td>\n",
       "      <td>43.091980</td>\n",
       "    </tr>\n",
       "    <tr>\n",
       "      <th>...</th>\n",
       "      <td>...</td>\n",
       "      <td>...</td>\n",
       "      <td>...</td>\n",
       "      <td>...</td>\n",
       "    </tr>\n",
       "    <tr>\n",
       "      <th>9439</th>\n",
       "      <td>0.0</td>\n",
       "      <td>1.003285</td>\n",
       "      <td>1.148660</td>\n",
       "      <td>1.061416</td>\n",
       "    </tr>\n",
       "    <tr>\n",
       "      <th>10511</th>\n",
       "      <td>0.0</td>\n",
       "      <td>0.000000</td>\n",
       "      <td>0.865476</td>\n",
       "      <td>1.059703</td>\n",
       "    </tr>\n",
       "    <tr>\n",
       "      <th>15109</th>\n",
       "      <td>0.0</td>\n",
       "      <td>0.000000</td>\n",
       "      <td>1.167876</td>\n",
       "      <td>1.441627</td>\n",
       "    </tr>\n",
       "    <tr>\n",
       "      <th>10567</th>\n",
       "      <td>44.5</td>\n",
       "      <td>44.262726</td>\n",
       "      <td>41.305839</td>\n",
       "      <td>35.973388</td>\n",
       "    </tr>\n",
       "    <tr>\n",
       "      <th>12354</th>\n",
       "      <td>77.4</td>\n",
       "      <td>39.522388</td>\n",
       "      <td>40.609339</td>\n",
       "      <td>37.087002</td>\n",
       "    </tr>\n",
       "  </tbody>\n",
       "</table>\n",
       "<p>1002 rows × 4 columns</p>\n",
       "</div>"
      ],
      "text/plain": [
       "       So_5_Scores_9  XBG_Predictions  LGBM_Predictions  EN_Predictions\n",
       "12518            0.0         4.622050          7.661548       11.889125\n",
       "6743             0.0         4.362611          5.574336       11.679229\n",
       "14003            0.0         0.182221          1.774496        4.420532\n",
       "11538            0.0         0.173354          0.865476        0.532449\n",
       "9647            49.5        41.107269         38.984004       43.091980\n",
       "...              ...              ...               ...             ...\n",
       "9439             0.0         1.003285          1.148660        1.061416\n",
       "10511            0.0         0.000000          0.865476        1.059703\n",
       "15109            0.0         0.000000          1.167876        1.441627\n",
       "10567           44.5        44.262726         41.305839       35.973388\n",
       "12354           77.4        39.522388         40.609339       37.087002\n",
       "\n",
       "[1002 rows x 4 columns]"
      ]
     },
     "execution_count": 11,
     "metadata": {},
     "output_type": "execute_result"
    }
   ],
   "source": [
    "y_test_df = pd.DataFrame(y_test)\n",
    "y_test_df['XBG_Predictions'] = y_pred_xgb_clipped\n",
    "y_test_df['LGBM_Predictions'] = y_pred_lgmb_clipped\n",
    "y_test_df['EN_Predictions'] = y_pred_en_clipped\n",
    "y_test_df"
   ]
  },
  {
   "cell_type": "code",
   "execution_count": 12,
   "metadata": {},
   "outputs": [
    {
     "data": {
      "text/html": [
       "<div>\n",
       "<style scoped>\n",
       "    .dataframe tbody tr th:only-of-type {\n",
       "        vertical-align: middle;\n",
       "    }\n",
       "\n",
       "    .dataframe tbody tr th {\n",
       "        vertical-align: top;\n",
       "    }\n",
       "\n",
       "    .dataframe thead th {\n",
       "        text-align: right;\n",
       "    }\n",
       "</style>\n",
       "<table border=\"1\" class=\"dataframe\">\n",
       "  <thead>\n",
       "    <tr style=\"text-align: right;\">\n",
       "      <th></th>\n",
       "      <th>So_5_Scores_9</th>\n",
       "      <th>XBG_Predictions</th>\n",
       "      <th>LGBM_Predictions</th>\n",
       "      <th>EN_Predictions</th>\n",
       "      <th>Average_Prediction</th>\n",
       "    </tr>\n",
       "  </thead>\n",
       "  <tbody>\n",
       "    <tr>\n",
       "      <th>12518</th>\n",
       "      <td>0.0</td>\n",
       "      <td>4.622050</td>\n",
       "      <td>7.661548</td>\n",
       "      <td>11.889125</td>\n",
       "      <td>8.057574</td>\n",
       "    </tr>\n",
       "    <tr>\n",
       "      <th>6743</th>\n",
       "      <td>0.0</td>\n",
       "      <td>4.362611</td>\n",
       "      <td>5.574336</td>\n",
       "      <td>11.679229</td>\n",
       "      <td>7.205392</td>\n",
       "    </tr>\n",
       "    <tr>\n",
       "      <th>14003</th>\n",
       "      <td>0.0</td>\n",
       "      <td>0.182221</td>\n",
       "      <td>1.774496</td>\n",
       "      <td>4.420532</td>\n",
       "      <td>2.125750</td>\n",
       "    </tr>\n",
       "    <tr>\n",
       "      <th>11538</th>\n",
       "      <td>0.0</td>\n",
       "      <td>0.173354</td>\n",
       "      <td>0.865476</td>\n",
       "      <td>0.532449</td>\n",
       "      <td>0.523760</td>\n",
       "    </tr>\n",
       "    <tr>\n",
       "      <th>9647</th>\n",
       "      <td>49.5</td>\n",
       "      <td>41.107269</td>\n",
       "      <td>38.984004</td>\n",
       "      <td>43.091980</td>\n",
       "      <td>41.061085</td>\n",
       "    </tr>\n",
       "    <tr>\n",
       "      <th>...</th>\n",
       "      <td>...</td>\n",
       "      <td>...</td>\n",
       "      <td>...</td>\n",
       "      <td>...</td>\n",
       "      <td>...</td>\n",
       "    </tr>\n",
       "    <tr>\n",
       "      <th>9439</th>\n",
       "      <td>0.0</td>\n",
       "      <td>1.003285</td>\n",
       "      <td>1.148660</td>\n",
       "      <td>1.061416</td>\n",
       "      <td>1.071121</td>\n",
       "    </tr>\n",
       "    <tr>\n",
       "      <th>10511</th>\n",
       "      <td>0.0</td>\n",
       "      <td>0.000000</td>\n",
       "      <td>0.865476</td>\n",
       "      <td>1.059703</td>\n",
       "      <td>0.641726</td>\n",
       "    </tr>\n",
       "    <tr>\n",
       "      <th>15109</th>\n",
       "      <td>0.0</td>\n",
       "      <td>0.000000</td>\n",
       "      <td>1.167876</td>\n",
       "      <td>1.441627</td>\n",
       "      <td>0.869835</td>\n",
       "    </tr>\n",
       "    <tr>\n",
       "      <th>10567</th>\n",
       "      <td>44.5</td>\n",
       "      <td>44.262726</td>\n",
       "      <td>41.305839</td>\n",
       "      <td>35.973388</td>\n",
       "      <td>40.513984</td>\n",
       "    </tr>\n",
       "    <tr>\n",
       "      <th>12354</th>\n",
       "      <td>77.4</td>\n",
       "      <td>39.522388</td>\n",
       "      <td>40.609339</td>\n",
       "      <td>37.087002</td>\n",
       "      <td>39.072910</td>\n",
       "    </tr>\n",
       "  </tbody>\n",
       "</table>\n",
       "<p>1002 rows × 5 columns</p>\n",
       "</div>"
      ],
      "text/plain": [
       "       So_5_Scores_9  XBG_Predictions  LGBM_Predictions  EN_Predictions  \\\n",
       "12518            0.0         4.622050          7.661548       11.889125   \n",
       "6743             0.0         4.362611          5.574336       11.679229   \n",
       "14003            0.0         0.182221          1.774496        4.420532   \n",
       "11538            0.0         0.173354          0.865476        0.532449   \n",
       "9647            49.5        41.107269         38.984004       43.091980   \n",
       "...              ...              ...               ...             ...   \n",
       "9439             0.0         1.003285          1.148660        1.061416   \n",
       "10511            0.0         0.000000          0.865476        1.059703   \n",
       "15109            0.0         0.000000          1.167876        1.441627   \n",
       "10567           44.5        44.262726         41.305839       35.973388   \n",
       "12354           77.4        39.522388         40.609339       37.087002   \n",
       "\n",
       "       Average_Prediction  \n",
       "12518            8.057574  \n",
       "6743             7.205392  \n",
       "14003            2.125750  \n",
       "11538            0.523760  \n",
       "9647            41.061085  \n",
       "...                   ...  \n",
       "9439             1.071121  \n",
       "10511            0.641726  \n",
       "15109            0.869835  \n",
       "10567           40.513984  \n",
       "12354           39.072910  \n",
       "\n",
       "[1002 rows x 5 columns]"
      ]
     },
     "execution_count": 12,
     "metadata": {},
     "output_type": "execute_result"
    }
   ],
   "source": [
    "y_test_df['Average_Prediction'] = (y_test_df['XBG_Predictions'] + y_test_df['LGBM_Predictions'] + y_test_df['EN_Predictions']) / 3\n",
    "y_test_df"
   ]
  },
  {
   "cell_type": "code",
   "execution_count": 13,
   "metadata": {},
   "outputs": [
    {
     "data": {
      "text/plain": [
       "16.444605404040143"
      ]
     },
     "execution_count": 13,
     "metadata": {},
     "output_type": "execute_result"
    }
   ],
   "source": [
    "y_true = y_test_df['So_5_Scores_9'].to_numpy()\n",
    "y_pred = y_test_df['Average_Prediction'].to_numpy()\n",
    "\n",
    "# Calculate RMSE\n",
    "rmse = np.sqrt(mean_squared_error(y_true, y_pred))\n",
    "rmse"
   ]
  },
  {
   "cell_type": "code",
   "execution_count": 14,
   "metadata": {},
   "outputs": [
    {
     "data": {
      "image/png": "[encoded data removed]",
      "text/plain": [
       "<Figure size 1000x600 with 1 Axes>"
      ]
     },
     "metadata": {},
     "output_type": "display_data"
    }
   ],
   "source": [
    "\n",
    "# Get feature importances\n",
    "importances = xgb_model.feature_importances_\n",
    "\n",
    "# Create a DataFrame for feature importance\n",
    "feature_importance_df = pd.DataFrame({\n",
    "    'Feature': X_train.columns,\n",
    "    'Importance': importances\n",
    "})\n",
    "\n",
    "top_n = 25  # Number of top features to show\n",
    "top_features = feature_importance_df.nlargest(top_n, 'Importance')\n",
    "\n",
    "# Sort the features by importance\n",
    "feature_importance_df = feature_importance_df.sort_values(by='Importance', ascending=False)\n",
    "\n",
    "# Plot feature importance\n",
    "plt.figure(figsize=(10, 6))\n",
    "plt.barh(top_features['Feature'], top_features['Importance'])\n",
    "plt.xlabel('Feature Importance')\n",
    "plt.ylabel('Features')\n",
    "plt.title('Feature Importance for XGB Model')\n",
    "plt.gca().invert_yaxis()\n",
    "plt.show()"
   ]
  },
  {
   "cell_type": "code",
   "execution_count": 15,
   "metadata": {},
   "outputs": [],
   "source": [
    "epl_teams = pd.read_csv('sorare_data/large_cleaned_sorare_data.csv')\n",
    "\n",
    "epl_teams = epl_teams.fillna(0.0)\n",
    "\n",
    "epl_midfielders_df = epl_teams[epl_teams['Position'] == 'Midfielder']\n",
    "\n",
    "epl_midfielders_df = epl_midfielders_df.reset_index(drop=True)"
   ]
  },
  {
   "cell_type": "code",
   "execution_count": 16,
   "metadata": {},
   "outputs": [],
   "source": [
    "drop_columns = columns=['Display_Name', 'First_Name','Last_Name','Player_Number', 'Position', 'Current_Club']\n",
    "\n",
    "columns_to_drop = [f'{col}_9' for col in col_prefixes]\n",
    "columns_to_drop.extend(drop_columns)\n",
    "\n",
    "target_column = 'So_5_Scores_9'\n",
    "\n",
    "X_test_midfielders = epl_midfielders_df.drop(columns=columns_to_drop)\n",
    "y_test_midfielders = epl_midfielders_df[target_column]"
   ]
  },
  {
   "cell_type": "code",
   "execution_count": 17,
   "metadata": {},
   "outputs": [
    {
     "name": "stdout",
     "output_type": "stream",
     "text": [
      "XGB Model loaded successfully!\n",
      "LGBM Model loaded successfully!\n",
      "Elastic Model loaded successfully!\n"
     ]
    }
   ],
   "source": [
    "with open('sorare_models/midfielders_xgb_model.pkl', 'rb') as file:\n",
    "    midfielders_xgb_model_loaded = pickle.load(file)\n",
    "    print(\"XGB Model loaded successfully!\")\n",
    "with open('sorare_models/midfielders_lgbm_model.pkl', 'rb') as file:\n",
    "    midfielders_lgbm_model_loaded = pickle.load(file)\n",
    "    print(\"LGBM Model loaded successfully!\")\n",
    "with open('sorare_models/midfielders_elastic_model.pkl', 'rb') as file:\n",
    "    midfielders_elastic_model_loaded = pickle.load(file)\n",
    "    print(\"Elastic Model loaded successfully!\")"
   ]
  },
  {
   "cell_type": "code",
   "execution_count": 18,
   "metadata": {},
   "outputs": [
    {
     "data": {
      "text/html": [
       "<div>\n",
       "<style scoped>\n",
       "    .dataframe tbody tr th:only-of-type {\n",
       "        vertical-align: middle;\n",
       "    }\n",
       "\n",
       "    .dataframe tbody tr th {\n",
       "        vertical-align: top;\n",
       "    }\n",
       "\n",
       "    .dataframe thead th {\n",
       "        text-align: right;\n",
       "    }\n",
       "</style>\n",
       "<table border=\"1\" class=\"dataframe\">\n",
       "  <thead>\n",
       "    <tr style=\"text-align: right;\">\n",
       "      <th></th>\n",
       "      <th>So_5_Scores_9</th>\n",
       "      <th>sorare_xgb_predictions</th>\n",
       "      <th>sorare_lgbm_predictions</th>\n",
       "      <th>sorare_elastic_predictions</th>\n",
       "    </tr>\n",
       "  </thead>\n",
       "  <tbody>\n",
       "    <tr>\n",
       "      <th>0</th>\n",
       "      <td>12.2</td>\n",
       "      <td>15.914597</td>\n",
       "      <td>36.671409</td>\n",
       "      <td>52.724706</td>\n",
       "    </tr>\n",
       "    <tr>\n",
       "      <th>1</th>\n",
       "      <td>35.9</td>\n",
       "      <td>35.552879</td>\n",
       "      <td>30.542416</td>\n",
       "      <td>22.074437</td>\n",
       "    </tr>\n",
       "    <tr>\n",
       "      <th>2</th>\n",
       "      <td>0.0</td>\n",
       "      <td>5.107623</td>\n",
       "      <td>5.538040</td>\n",
       "      <td>9.235120</td>\n",
       "    </tr>\n",
       "  </tbody>\n",
       "</table>\n",
       "</div>"
      ],
      "text/plain": [
       "   So_5_Scores_9  sorare_xgb_predictions  sorare_lgbm_predictions  \\\n",
       "0           12.2               15.914597                36.671409   \n",
       "1           35.9               35.552879                30.542416   \n",
       "2            0.0                5.107623                 5.538040   \n",
       "\n",
       "   sorare_elastic_predictions  \n",
       "0                   52.724706  \n",
       "1                   22.074437  \n",
       "2                    9.235120  "
      ]
     },
     "execution_count": 18,
     "metadata": {},
     "output_type": "execute_result"
    }
   ],
   "source": [
    "xgb_predictions = midfielders_xgb_model_loaded.predict(X_test_midfielders)\n",
    "lgbm_predictions = midfielders_lgbm_model_loaded.predict(X_test_midfielders)\n",
    "elastic_predictions = midfielders_elastic_model_loaded.predict(X_test_midfielders)\n",
    "\n",
    "xgb_predictions = np.clip(xgb_predictions, 0, 100)\n",
    "lgbm_predictions = np.clip(lgbm_predictions, 0, 100)\n",
    "elastic_predictions = np.clip(elastic_predictions, 0, 100)\n",
    "\n",
    "y_test_midfielders_df = pd.DataFrame(y_test_midfielders)\n",
    "\n",
    "epl_midfielders_df['sorare_xgb_predictions'] = pd.Series(xgb_predictions)\n",
    "epl_midfielders_df['sorare_lgbm_predictions'] = pd.Series(lgbm_predictions)\n",
    "epl_midfielders_df['sorare_elastic_predictions'] = pd.Series(elastic_predictions)\n",
    "\n",
    "epl_midfielders_df['sorare_predictions'] = epl_midfielders_df[['sorare_xgb_predictions', 'sorare_lgbm_predictions', 'sorare_elastic_predictions']].mean(axis=1)\n",
    "\n",
    "epl_midfielders_df[['So_5_Scores_9','sorare_xgb_predictions', 'sorare_lgbm_predictions', 'sorare_elastic_predictions']].head(3)"
   ]
  },
  {
   "cell_type": "code",
   "execution_count": 19,
   "metadata": {},
   "outputs": [
    {
     "data": {
      "text/plain": [
       "12.767405555806869"
      ]
     },
     "execution_count": 19,
     "metadata": {},
     "output_type": "execute_result"
    }
   ],
   "source": [
    "y_true = epl_midfielders_df['So_5_Scores_9'].to_numpy()\n",
    "y_pred = epl_midfielders_df['sorare_predictions'].to_numpy()\n",
    "\n",
    "# Calculate RMSE\n",
    "rmse = np.sqrt(mean_squared_error(y_true, y_pred))\n",
    "rmse"
   ]
  },
  {
   "cell_type": "code",
   "execution_count": 20,
   "metadata": {},
   "outputs": [],
   "source": [
    "saved_midfielders_df = epl_midfielders_df[['Display_Name', 'First_Name','Last_Name','Player_Number', 'Position', 'Current_Club','So_5_Scores_9','sorare_xgb_predictions', 'sorare_lgbm_predictions', 'sorare_elastic_predictions', 'sorare_predictions']]\n",
    "saved_midfielders_df.to_csv('sorare_data/predictions/sorare_midfielders_predictions.csv', index=False)"
   ]
  }
 ],
 "metadata": {
  "kernelspec": {
   "display_name": ".venv",
   "language": "python",
   "name": "python3"
  },
  "language_info": {
   "codemirror_mode": {
    "name": "ipython",
    "version": 3
   },
   "file_extension": ".py",
   "mimetype": "text/x-python",
   "name": "python",
   "nbconvert_exporter": "python",
   "pygments_lexer": "ipython3",
   "version": "3.11.4"
  }
 },
 "nbformat": 4,
 "nbformat_minor": 2
}
