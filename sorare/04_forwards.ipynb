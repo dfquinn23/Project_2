{
 "cells": [
  {
   "cell_type": "code",
   "execution_count": 1,
   "metadata": {},
   "outputs": [],
   "source": [
    "import pickle\n",
    "import pandas as pd\n",
    "import numpy as np\n",
    "import matplotlib.pyplot as plt\n",
    "\n",
    "import xgboost as xgb\n",
    "import lightgbm as lgb\n",
    "from sklearn.linear_model import ElasticNet\n",
    "# from sklearn.preprocessing import LabelEncoder\n",
    "\n",
    "from sklearn.model_selection import train_test_split\n",
    "from sklearn.metrics import mean_squared_error\n",
    "\n",
    "from utils_data_structures import col_prefixes"
   ]
  },
  {
   "cell_type": "code",
   "execution_count": 2,
   "metadata": {},
   "outputs": [
    {
     "name": "stdout",
     "output_type": "stream",
     "text": [
      "0\n"
     ]
    }
   ],
   "source": [
    "grouped_df = pd.read_csv('sorare_data/large_grouped_sorare_data.csv')\n",
    "\n",
    "grouped_df = grouped_df.fillna(0.0)\n",
    "# grouped_df = pd.get_dummies(grouped_df, columns=['Current_Club'])\n",
    "# grouped_df = grouped_df.drop(columns=['Current_Club'])\n",
    "\n",
    "print(grouped_df['So_5_Scores_9'].isna().sum())"
   ]
  },
  {
   "cell_type": "code",
   "execution_count": 3,
   "metadata": {},
   "outputs": [],
   "source": [
    "epl_forwards_df = grouped_df[grouped_df['Position'] == 'Forward']\n",
    "epl_forwards_df = epl_forwards_df.drop(columns=['Display_Name', 'First_Name','Last_Name','Player_Number', 'Position', 'Current_Club'])"
   ]
  },
  {
   "cell_type": "code",
   "execution_count": 4,
   "metadata": {},
   "outputs": [
    {
     "data": {
      "text/plain": [
       "float64    309\n",
       "int64        4\n",
       "Name: count, dtype: int64"
      ]
     },
     "execution_count": 4,
     "metadata": {},
     "output_type": "execute_result"
    }
   ],
   "source": [
    "epl_forwards_df.dtypes.value_counts()"
   ]
  },
  {
   "cell_type": "code",
   "execution_count": 5,
   "metadata": {},
   "outputs": [],
   "source": [
    "# Create X and y and split into training and testing sets\n",
    "target_column = 'So_5_Scores_9'\n",
    "columns_to_drop = [f'{col}_9' for col in col_prefixes]\n",
    "\n",
    "X = epl_forwards_df.drop(columns=columns_to_drop)\n",
    "y = epl_forwards_df[target_column]\n"
   ]
  },
  {
   "cell_type": "code",
   "execution_count": 6,
   "metadata": {},
   "outputs": [],
   "source": [
    "X_train, X_test, y_train, y_test = train_test_split(X, y, test_size=0.2, random_state=42)"
   ]
  },
  {
   "cell_type": "code",
   "execution_count": 7,
   "metadata": {},
   "outputs": [
    {
     "name": "stdout",
     "output_type": "stream",
     "text": [
      "RMSE: 17.031600147402553\n"
     ]
    }
   ],
   "source": [
    "# Initialize the XGBoost regressor\n",
    "xgb_model = xgb.XGBRegressor(n_estimators=1000, learning_rate=0.05, max_depth=6, random_state=42)\n",
    "\n",
    "# Train the model\n",
    "xgb_model.fit(X_train, y_train)\n",
    "\n",
    "# Make predictions\n",
    "y_pred_xgb = xgb_model.predict(X_test)\n",
    "\n",
    "# Evaluate\n",
    "y_pred_xgb_clipped = np.clip(y_pred_xgb, 0, 100)\n",
    "mse = mean_squared_error(y_test, y_pred_xgb_clipped)\n",
    "rmse = np.sqrt(mse)\n",
    "print(f'RMSE: {rmse}')"
   ]
  },
  {
   "cell_type": "code",
   "execution_count": 8,
   "metadata": {},
   "outputs": [
    {
     "name": "stdout",
     "output_type": "stream",
     "text": [
      "[LightGBM] [Info] Auto-choosing col-wise multi-threading, the overhead of testing was 0.002606 seconds.\n",
      "You can set `force_col_wise=true` to remove the overhead.\n",
      "[LightGBM] [Info] Total Bins 7915\n",
      "[LightGBM] [Info] Number of data points in the train set: 2965, number of used features: 192\n",
      "[LightGBM] [Info] Start training from score 18.712180\n",
      "[LightGBM] [Warning] No further splits with positive gain, best gain: -inf\n",
      "[LightGBM] [Warning] No further splits with positive gain, best gain: -inf\n",
      "[LightGBM] [Warning] No further splits with positive gain, best gain: -inf\n",
      "[LightGBM] [Warning] No further splits with positive gain, best gain: -inf\n",
      "[LightGBM] [Warning] No further splits with positive gain, best gain: -inf\n",
      "RMSE: 16.435894048371516\n"
     ]
    }
   ],
   "source": [
    "# Initialize the LightGBM regressor\n",
    "lgbm_model = lgb.LGBMRegressor(\n",
    "    boosting_type='gbdt',  # Gradient boosting decision tree\n",
    "    n_estimators=400,      # Number of boosting rounds (trees)\n",
    "    learning_rate=0.01,     # Step size shrinkage\n",
    "    max_depth=10,          # Unlimited depth of trees (-1 means no limit)\n",
    "    random_state=42,        # For reproducibility\n",
    ")\n",
    "\n",
    "# Train the model\n",
    "lgbm_model.fit(X_train, y_train)\n",
    "# Make predictions\n",
    "y_pred_lgbm = lgbm_model.predict(X_test)\n",
    "\n",
    "# Evaluate\n",
    "y_pred_lgmb_clipped = np.clip(y_pred_lgbm, 0, 100)\n",
    "mse = mean_squared_error(y_test, y_pred_lgmb_clipped)\n",
    "rmse = np.sqrt(mse)\n",
    "print(f'RMSE: {rmse}')"
   ]
  },
  {
   "cell_type": "code",
   "execution_count": 9,
   "metadata": {},
   "outputs": [
    {
     "name": "stdout",
     "output_type": "stream",
     "text": [
      "RMSE: 16.715620407313857\n"
     ]
    },
    {
     "name": "stderr",
     "output_type": "stream",
     "text": [
      "c:\\Users\\mttca\\nwuai\\course_materials\\class_work\\projects\\Project_2\\.venv\\Lib\\site-packages\\sklearn\\linear_model\\_coordinate_descent.py:697: ConvergenceWarning: Objective did not converge. You might want to increase the number of iterations, check the scale of the features or consider increasing regularisation. Duality gap: 3.504e+05, tolerance: 1.784e+02\n",
      "  model = cd_fast.enet_coordinate_descent(\n"
     ]
    }
   ],
   "source": [
    "\n",
    "# Initialize ElasticNet\n",
    "elastic_model = ElasticNet(alpha=0.05, l1_ratio=0.9, random_state=42)\n",
    "\n",
    "# Train the model\n",
    "elastic_model.fit(X_train, y_train)\n",
    "\n",
    "# Make predictions\n",
    "y_pred_en = elastic_model.predict(X_test)\n",
    "\n",
    "# Evaluate\n",
    "y_pred_en_clipped = np.clip(y_pred_en, 0, 100)\n",
    "mse = mean_squared_error(y_test, y_pred_en_clipped)\n",
    "rmse = np.sqrt(mse)\n",
    "print(f'RMSE: {rmse}')"
   ]
  },
  {
   "cell_type": "code",
   "execution_count": 10,
   "metadata": {},
   "outputs": [
    {
     "name": "stdout",
     "output_type": "stream",
     "text": [
      "XGB Model saved successfully!\n",
      "LGBM Model saved successfully!\n",
      "Elastic Model saved successfully!\n",
      "Models saved successfully!\n"
     ]
    }
   ],
   "source": [
    "with open('sorare_models/forwards_xgb_model.pkl', 'wb') as file:\n",
    "    pickle.dump(xgb_model, file)\n",
    "    print(\"XGB Model saved successfully!\")\n",
    "with open('sorare_models/forwards_lgbm_model.pkl', 'wb') as file:\n",
    "    pickle.dump(lgbm_model, file)\n",
    "    print(\"LGBM Model saved successfully!\")\n",
    "\n",
    "with open('sorare_models/forwards_elastic_model.pkl', 'wb') as file:\n",
    "    pickle.dump(elastic_model, file)\n",
    "    print(\"Elastic Model saved successfully!\")\n",
    "\n",
    "print(\"Models saved successfully!\")"
   ]
  },
  {
   "cell_type": "code",
   "execution_count": 11,
   "metadata": {},
   "outputs": [
    {
     "data": {
      "text/html": [
       "<div>\n",
       "<style scoped>\n",
       "    .dataframe tbody tr th:only-of-type {\n",
       "        vertical-align: middle;\n",
       "    }\n",
       "\n",
       "    .dataframe tbody tr th {\n",
       "        vertical-align: top;\n",
       "    }\n",
       "\n",
       "    .dataframe thead th {\n",
       "        text-align: right;\n",
       "    }\n",
       "</style>\n",
       "<table border=\"1\" class=\"dataframe\">\n",
       "  <thead>\n",
       "    <tr style=\"text-align: right;\">\n",
       "      <th></th>\n",
       "      <th>So_5_Scores_9</th>\n",
       "      <th>XBG_Predictions</th>\n",
       "      <th>LGBM_Predictions</th>\n",
       "      <th>EN_Predictions</th>\n",
       "    </tr>\n",
       "  </thead>\n",
       "  <tbody>\n",
       "    <tr>\n",
       "      <th>13076</th>\n",
       "      <td>37.1</td>\n",
       "      <td>37.956734</td>\n",
       "      <td>38.898820</td>\n",
       "      <td>31.724397</td>\n",
       "    </tr>\n",
       "    <tr>\n",
       "      <th>4267</th>\n",
       "      <td>64.5</td>\n",
       "      <td>14.832029</td>\n",
       "      <td>24.882507</td>\n",
       "      <td>21.153009</td>\n",
       "    </tr>\n",
       "    <tr>\n",
       "      <th>8335</th>\n",
       "      <td>32.6</td>\n",
       "      <td>34.826740</td>\n",
       "      <td>32.960483</td>\n",
       "      <td>26.142938</td>\n",
       "    </tr>\n",
       "    <tr>\n",
       "      <th>3163</th>\n",
       "      <td>32.3</td>\n",
       "      <td>32.640137</td>\n",
       "      <td>35.624570</td>\n",
       "      <td>37.823247</td>\n",
       "    </tr>\n",
       "    <tr>\n",
       "      <th>3217</th>\n",
       "      <td>43.3</td>\n",
       "      <td>44.974094</td>\n",
       "      <td>38.693153</td>\n",
       "      <td>41.601183</td>\n",
       "    </tr>\n",
       "    <tr>\n",
       "      <th>...</th>\n",
       "      <td>...</td>\n",
       "      <td>...</td>\n",
       "      <td>...</td>\n",
       "      <td>...</td>\n",
       "    </tr>\n",
       "    <tr>\n",
       "      <th>7888</th>\n",
       "      <td>0.0</td>\n",
       "      <td>1.289248</td>\n",
       "      <td>1.443905</td>\n",
       "      <td>0.583826</td>\n",
       "    </tr>\n",
       "    <tr>\n",
       "      <th>2382</th>\n",
       "      <td>44.6</td>\n",
       "      <td>40.738682</td>\n",
       "      <td>43.322642</td>\n",
       "      <td>44.334005</td>\n",
       "    </tr>\n",
       "    <tr>\n",
       "      <th>6814</th>\n",
       "      <td>0.0</td>\n",
       "      <td>20.549337</td>\n",
       "      <td>21.804156</td>\n",
       "      <td>19.771350</td>\n",
       "    </tr>\n",
       "    <tr>\n",
       "      <th>6760</th>\n",
       "      <td>0.0</td>\n",
       "      <td>0.011324</td>\n",
       "      <td>1.263409</td>\n",
       "      <td>1.448683</td>\n",
       "    </tr>\n",
       "    <tr>\n",
       "      <th>1120</th>\n",
       "      <td>0.0</td>\n",
       "      <td>0.914270</td>\n",
       "      <td>3.642982</td>\n",
       "      <td>5.619650</td>\n",
       "    </tr>\n",
       "  </tbody>\n",
       "</table>\n",
       "<p>742 rows × 4 columns</p>\n",
       "</div>"
      ],
      "text/plain": [
       "       So_5_Scores_9  XBG_Predictions  LGBM_Predictions  EN_Predictions\n",
       "13076           37.1        37.956734         38.898820       31.724397\n",
       "4267            64.5        14.832029         24.882507       21.153009\n",
       "8335            32.6        34.826740         32.960483       26.142938\n",
       "3163            32.3        32.640137         35.624570       37.823247\n",
       "3217            43.3        44.974094         38.693153       41.601183\n",
       "...              ...              ...               ...             ...\n",
       "7888             0.0         1.289248          1.443905        0.583826\n",
       "2382            44.6        40.738682         43.322642       44.334005\n",
       "6814             0.0        20.549337         21.804156       19.771350\n",
       "6760             0.0         0.011324          1.263409        1.448683\n",
       "1120             0.0         0.914270          3.642982        5.619650\n",
       "\n",
       "[742 rows x 4 columns]"
      ]
     },
     "execution_count": 11,
     "metadata": {},
     "output_type": "execute_result"
    }
   ],
   "source": [
    "y_test_df = pd.DataFrame(y_test)\n",
    "y_test_df['XBG_Predictions'] = y_pred_xgb_clipped\n",
    "y_test_df['LGBM_Predictions'] = y_pred_lgmb_clipped\n",
    "y_test_df['EN_Predictions'] = y_pred_en_clipped\n",
    "y_test_df"
   ]
  },
  {
   "cell_type": "code",
   "execution_count": 12,
   "metadata": {},
   "outputs": [
    {
     "data": {
      "text/html": [
       "<div>\n",
       "<style scoped>\n",
       "    .dataframe tbody tr th:only-of-type {\n",
       "        vertical-align: middle;\n",
       "    }\n",
       "\n",
       "    .dataframe tbody tr th {\n",
       "        vertical-align: top;\n",
       "    }\n",
       "\n",
       "    .dataframe thead th {\n",
       "        text-align: right;\n",
       "    }\n",
       "</style>\n",
       "<table border=\"1\" class=\"dataframe\">\n",
       "  <thead>\n",
       "    <tr style=\"text-align: right;\">\n",
       "      <th></th>\n",
       "      <th>So_5_Scores_9</th>\n",
       "      <th>XBG_Predictions</th>\n",
       "      <th>LGBM_Predictions</th>\n",
       "      <th>EN_Predictions</th>\n",
       "      <th>Average_Prediction</th>\n",
       "    </tr>\n",
       "  </thead>\n",
       "  <tbody>\n",
       "    <tr>\n",
       "      <th>13076</th>\n",
       "      <td>37.1</td>\n",
       "      <td>37.956734</td>\n",
       "      <td>38.898820</td>\n",
       "      <td>31.724397</td>\n",
       "      <td>36.193317</td>\n",
       "    </tr>\n",
       "    <tr>\n",
       "      <th>4267</th>\n",
       "      <td>64.5</td>\n",
       "      <td>14.832029</td>\n",
       "      <td>24.882507</td>\n",
       "      <td>21.153009</td>\n",
       "      <td>20.289182</td>\n",
       "    </tr>\n",
       "    <tr>\n",
       "      <th>8335</th>\n",
       "      <td>32.6</td>\n",
       "      <td>34.826740</td>\n",
       "      <td>32.960483</td>\n",
       "      <td>26.142938</td>\n",
       "      <td>31.310054</td>\n",
       "    </tr>\n",
       "    <tr>\n",
       "      <th>3163</th>\n",
       "      <td>32.3</td>\n",
       "      <td>32.640137</td>\n",
       "      <td>35.624570</td>\n",
       "      <td>37.823247</td>\n",
       "      <td>35.362651</td>\n",
       "    </tr>\n",
       "    <tr>\n",
       "      <th>3217</th>\n",
       "      <td>43.3</td>\n",
       "      <td>44.974094</td>\n",
       "      <td>38.693153</td>\n",
       "      <td>41.601183</td>\n",
       "      <td>41.756144</td>\n",
       "    </tr>\n",
       "    <tr>\n",
       "      <th>...</th>\n",
       "      <td>...</td>\n",
       "      <td>...</td>\n",
       "      <td>...</td>\n",
       "      <td>...</td>\n",
       "      <td>...</td>\n",
       "    </tr>\n",
       "    <tr>\n",
       "      <th>7888</th>\n",
       "      <td>0.0</td>\n",
       "      <td>1.289248</td>\n",
       "      <td>1.443905</td>\n",
       "      <td>0.583826</td>\n",
       "      <td>1.105660</td>\n",
       "    </tr>\n",
       "    <tr>\n",
       "      <th>2382</th>\n",
       "      <td>44.6</td>\n",
       "      <td>40.738682</td>\n",
       "      <td>43.322642</td>\n",
       "      <td>44.334005</td>\n",
       "      <td>42.798443</td>\n",
       "    </tr>\n",
       "    <tr>\n",
       "      <th>6814</th>\n",
       "      <td>0.0</td>\n",
       "      <td>20.549337</td>\n",
       "      <td>21.804156</td>\n",
       "      <td>19.771350</td>\n",
       "      <td>20.708281</td>\n",
       "    </tr>\n",
       "    <tr>\n",
       "      <th>6760</th>\n",
       "      <td>0.0</td>\n",
       "      <td>0.011324</td>\n",
       "      <td>1.263409</td>\n",
       "      <td>1.448683</td>\n",
       "      <td>0.907806</td>\n",
       "    </tr>\n",
       "    <tr>\n",
       "      <th>1120</th>\n",
       "      <td>0.0</td>\n",
       "      <td>0.914270</td>\n",
       "      <td>3.642982</td>\n",
       "      <td>5.619650</td>\n",
       "      <td>3.392300</td>\n",
       "    </tr>\n",
       "  </tbody>\n",
       "</table>\n",
       "<p>742 rows × 5 columns</p>\n",
       "</div>"
      ],
      "text/plain": [
       "       So_5_Scores_9  XBG_Predictions  LGBM_Predictions  EN_Predictions  \\\n",
       "13076           37.1        37.956734         38.898820       31.724397   \n",
       "4267            64.5        14.832029         24.882507       21.153009   \n",
       "8335            32.6        34.826740         32.960483       26.142938   \n",
       "3163            32.3        32.640137         35.624570       37.823247   \n",
       "3217            43.3        44.974094         38.693153       41.601183   \n",
       "...              ...              ...               ...             ...   \n",
       "7888             0.0         1.289248          1.443905        0.583826   \n",
       "2382            44.6        40.738682         43.322642       44.334005   \n",
       "6814             0.0        20.549337         21.804156       19.771350   \n",
       "6760             0.0         0.011324          1.263409        1.448683   \n",
       "1120             0.0         0.914270          3.642982        5.619650   \n",
       "\n",
       "       Average_Prediction  \n",
       "13076           36.193317  \n",
       "4267            20.289182  \n",
       "8335            31.310054  \n",
       "3163            35.362651  \n",
       "3217            41.756144  \n",
       "...                   ...  \n",
       "7888             1.105660  \n",
       "2382            42.798443  \n",
       "6814            20.708281  \n",
       "6760             0.907806  \n",
       "1120             3.392300  \n",
       "\n",
       "[742 rows x 5 columns]"
      ]
     },
     "execution_count": 12,
     "metadata": {},
     "output_type": "execute_result"
    }
   ],
   "source": [
    "y_test_df['Average_Prediction'] = (y_test_df['XBG_Predictions'] + y_test_df['LGBM_Predictions'] + y_test_df['EN_Predictions']) / 3\n",
    "y_test_df"
   ]
  },
  {
   "cell_type": "code",
   "execution_count": 13,
   "metadata": {},
   "outputs": [
    {
     "data": {
      "text/plain": [
       "16.39585608836834"
      ]
     },
     "execution_count": 13,
     "metadata": {},
     "output_type": "execute_result"
    }
   ],
   "source": [
    "y_true = y_test_df['So_5_Scores_9'].to_numpy()\n",
    "y_pred = y_test_df['Average_Prediction'].to_numpy()\n",
    "\n",
    "# Calculate RMSE\n",
    "rmse = np.sqrt(mean_squared_error(y_true, y_pred))\n",
    "rmse"
   ]
  },
  {
   "cell_type": "code",
   "execution_count": 14,
   "metadata": {},
   "outputs": [
    {
     "data": {
      "image/png": "[encoded data removed]",
      "text/plain": [
       "<Figure size 1000x600 with 1 Axes>"
      ]
     },
     "metadata": {},
     "output_type": "display_data"
    }
   ],
   "source": [
    "\n",
    "# Get feature importances\n",
    "importances = xgb_model.feature_importances_\n",
    "\n",
    "# Create a DataFrame for feature importance\n",
    "feature_importance_df = pd.DataFrame({\n",
    "    'Feature': X_train.columns,\n",
    "    'Importance': importances\n",
    "})\n",
    "\n",
    "top_n = 25  # Number of top features to show\n",
    "top_features = feature_importance_df.nlargest(top_n, 'Importance')\n",
    "\n",
    "# Sort the features by importance\n",
    "feature_importance_df = feature_importance_df.sort_values(by='Importance', ascending=False)\n",
    "\n",
    "# Plot feature importance\n",
    "plt.figure(figsize=(10, 6))\n",
    "plt.barh(top_features['Feature'], top_features['Importance'])\n",
    "plt.xlabel('Feature Importance')\n",
    "plt.ylabel('Features')\n",
    "plt.title('Feature Importance for XGB Model')\n",
    "plt.gca().invert_yaxis()\n",
    "plt.show()"
   ]
  },
  {
   "cell_type": "code",
   "execution_count": 15,
   "metadata": {},
   "outputs": [],
   "source": [
    "epl_teams = pd.read_csv('sorare_data/large_cleaned_sorare_data.csv')\n",
    "\n",
    "epl_teams = epl_teams.fillna(0.0)\n",
    "\n",
    "epl_forwards_df = epl_teams[epl_teams['Position'] == 'Forward']\n",
    "\n",
    "epl_forwards_df = epl_forwards_df.reset_index(drop=True)"
   ]
  },
  {
   "cell_type": "code",
   "execution_count": 16,
   "metadata": {},
   "outputs": [],
   "source": [
    "drop_columns = columns=['Display_Name', 'First_Name','Last_Name','Player_Number', 'Position', 'Current_Club']\n",
    "\n",
    "columns_to_drop = [f'{col}_9' for col in col_prefixes]\n",
    "columns_to_drop.extend(drop_columns)\n",
    "\n",
    "target_column = 'So_5_Scores_9'\n",
    "\n",
    "X_test_forwards = epl_forwards_df.drop(columns=columns_to_drop)\n",
    "y_test_forwards = epl_forwards_df[target_column]"
   ]
  },
  {
   "cell_type": "code",
   "execution_count": 17,
   "metadata": {},
   "outputs": [
    {
     "name": "stdout",
     "output_type": "stream",
     "text": [
      "XGB Model loaded successfully!\n",
      "LGBM Model loaded successfully!\n",
      "Elastic Model loaded successfully!\n"
     ]
    }
   ],
   "source": [
    "with open('sorare_models/forwards_xgb_model.pkl', 'rb') as file:\n",
    "    forwards_xgb_model_loaded = pickle.load(file)\n",
    "    print(\"XGB Model loaded successfully!\")\n",
    "with open('sorare_models/forwards_lgbm_model.pkl', 'rb') as file:\n",
    "    forwards_lgbm_model_loaded = pickle.load(file)\n",
    "    print(\"LGBM Model loaded successfully!\")\n",
    "with open('sorare_models/forwards_elastic_model.pkl', 'rb') as file:\n",
    "    forwards_elastic_model_loaded = pickle.load(file)\n",
    "    print(\"Elastic Model loaded successfully!\")"
   ]
  },
  {
   "cell_type": "code",
   "execution_count": 18,
   "metadata": {},
   "outputs": [
    {
     "data": {
      "text/html": [
       "<div>\n",
       "<style scoped>\n",
       "    .dataframe tbody tr th:only-of-type {\n",
       "        vertical-align: middle;\n",
       "    }\n",
       "\n",
       "    .dataframe tbody tr th {\n",
       "        vertical-align: top;\n",
       "    }\n",
       "\n",
       "    .dataframe thead th {\n",
       "        text-align: right;\n",
       "    }\n",
       "</style>\n",
       "<table border=\"1\" class=\"dataframe\">\n",
       "  <thead>\n",
       "    <tr style=\"text-align: right;\">\n",
       "      <th></th>\n",
       "      <th>So_5_Scores_9</th>\n",
       "      <th>xgb_predictions</th>\n",
       "      <th>lgbm_predictions</th>\n",
       "      <th>elastic_predictions</th>\n",
       "    </tr>\n",
       "  </thead>\n",
       "  <tbody>\n",
       "    <tr>\n",
       "      <th>0</th>\n",
       "      <td>47.100000</td>\n",
       "      <td>46.405117</td>\n",
       "      <td>48.049277</td>\n",
       "      <td>41.320080</td>\n",
       "    </tr>\n",
       "    <tr>\n",
       "      <th>1</th>\n",
       "      <td>33.423575</td>\n",
       "      <td>33.386581</td>\n",
       "      <td>33.026150</td>\n",
       "      <td>29.883625</td>\n",
       "    </tr>\n",
       "    <tr>\n",
       "      <th>2</th>\n",
       "      <td>0.000000</td>\n",
       "      <td>0.032436</td>\n",
       "      <td>12.440056</td>\n",
       "      <td>18.348078</td>\n",
       "    </tr>\n",
       "  </tbody>\n",
       "</table>\n",
       "</div>"
      ],
      "text/plain": [
       "   So_5_Scores_9  xgb_predictions  lgbm_predictions  elastic_predictions\n",
       "0      47.100000        46.405117         48.049277            41.320080\n",
       "1      33.423575        33.386581         33.026150            29.883625\n",
       "2       0.000000         0.032436         12.440056            18.348078"
      ]
     },
     "execution_count": 18,
     "metadata": {},
     "output_type": "execute_result"
    }
   ],
   "source": [
    "xgb_predictions = forwards_xgb_model_loaded.predict(X_test_forwards)\n",
    "lgbm_predictions = forwards_lgbm_model_loaded.predict(X_test_forwards)\n",
    "elastic_predictions = forwards_elastic_model_loaded.predict(X_test_forwards)\n",
    "\n",
    "xgb_predictions = np.clip(xgb_predictions, 0, 100)\n",
    "lgbm_predictions = np.clip(lgbm_predictions, 0, 100)\n",
    "elastic_predictions = np.clip(elastic_predictions, 0, 100)\n",
    "\n",
    "y_test_forwards_df = pd.DataFrame(y_test_forwards)\n",
    "\n",
    "epl_forwards_df['xgb_predictions'] = pd.Series(xgb_predictions)\n",
    "epl_forwards_df['lgbm_predictions'] = pd.Series(lgbm_predictions)\n",
    "epl_forwards_df['elastic_predictions'] = pd.Series(elastic_predictions)\n",
    "\n",
    "epl_forwards_df['Average_Prediction'] = epl_forwards_df[['xgb_predictions', 'lgbm_predictions', 'elastic_predictions']].mean(axis=1)\n",
    "\n",
    "epl_forwards_df[['So_5_Scores_9','xgb_predictions', 'lgbm_predictions', 'elastic_predictions']].head(3)"
   ]
  },
  {
   "cell_type": "code",
   "execution_count": 19,
   "metadata": {},
   "outputs": [
    {
     "data": {
      "text/plain": [
       "13.925413825419009"
      ]
     },
     "execution_count": 19,
     "metadata": {},
     "output_type": "execute_result"
    }
   ],
   "source": [
    "y_true = epl_forwards_df['So_5_Scores_9'].to_numpy()\n",
    "y_pred = epl_forwards_df['Average_Prediction'].to_numpy()\n",
    "\n",
    "# Calculate RMSE\n",
    "rmse = np.sqrt(mean_squared_error(y_true, y_pred))\n",
    "rmse"
   ]
  },
  {
   "cell_type": "code",
   "execution_count": 20,
   "metadata": {},
   "outputs": [],
   "source": [
    "saved_forwards_df = epl_forwards_df[['Display_Name', 'First_Name','Last_Name','Player_Number', 'Position', 'Current_Club','So_5_Scores_9','xgb_predictions', 'lgbm_predictions', 'elastic_predictions']]\n",
    "saved_forwards_df.to_csv('sorare_data/predictions/sorare_forwards_predictions.csv', index=False)"
   ]
  }
 ],
 "metadata": {
  "kernelspec": {
   "display_name": ".venv",
   "language": "python",
   "name": "python3"
  },
  "language_info": {
   "codemirror_mode": {
    "name": "ipython",
    "version": 3
   },
   "file_extension": ".py",
   "mimetype": "text/x-python",
   "name": "python",
   "nbconvert_exporter": "python",
   "pygments_lexer": "ipython3",
   "version": "3.11.4"
  }
 },
 "nbformat": 4,
 "nbformat_minor": 2
}
