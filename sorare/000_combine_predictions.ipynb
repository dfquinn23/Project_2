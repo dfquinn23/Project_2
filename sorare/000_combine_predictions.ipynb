{
 "cells": [
  {
   "cell_type": "code",
   "execution_count": 1,
   "metadata": {},
   "outputs": [],
   "source": [
    "import pandas as pd\n",
    "\n",
    "goalkeepers_df = pd.read_csv('sorare_data/predictions/sorare_goalkeepers_predictions.csv')\n",
    "defenders_df = pd.read_csv('sorare_data/predictions/sorare_defenders_predictions.csv')\n",
    "midfielders_df = pd.read_csv('sorare_data/predictions/sorare_midfielders_predictions.csv')\n",
    "forwards_df = pd.read_csv('sorare_data/predictions/sorare_forwards_predictions.csv')"
   ]
  },
  {
   "cell_type": "code",
   "execution_count": 2,
   "metadata": {},
   "outputs": [],
   "source": [
    "epl_teams_df = pd.concat([goalkeepers_df, defenders_df, midfielders_df, forwards_df], ignore_index=True)\n",
    "epl_teams_df.to_csv('sorare_data/predictions/sorare_epl_team_predictions.csv', index=False)"
   ]
  }
 ],
 "metadata": {
  "kernelspec": {
   "display_name": ".venv",
   "language": "python",
   "name": "python3"
  },
  "language_info": {
   "codemirror_mode": {
    "name": "ipython",
    "version": 3
   },
   "file_extension": ".py",
   "mimetype": "text/x-python",
   "name": "python",
   "nbconvert_exporter": "python",
   "pygments_lexer": "ipython3",
   "version": "3.11.4"
  }
 },
 "nbformat": 4,
 "nbformat_minor": 2
}
