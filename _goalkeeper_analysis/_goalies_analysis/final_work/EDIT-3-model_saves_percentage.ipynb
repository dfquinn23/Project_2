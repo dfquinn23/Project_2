{
 "cells": [
  {
   "cell_type": "markdown",
   "metadata": {},
   "source": [
    "# Here, I am creating a new column in the goalie_hist_model_ready DF that creates a Goalie Score metric for analysis. "
   ]
  },
  {
   "cell_type": "code",
   "execution_count": 11,
   "metadata": {},
   "outputs": [],
   "source": [
    "import pandas as pd\n",
    "import numpy as np\n",
    "import requests\n",
    "from sklearn.model_selection import train_test_split\n",
    "from sklearn.metrics import mean_absolute_error, mean_squared_error, r2_score\n",
    "from sklearn.linear_model import LinearRegression\n",
    "from matplotlib import pyplot as plt\n",
    "from sklearn.ensemble import RandomForestRegressor\n",
    "from sklearn.preprocessing import StandardScaler\n"
   ]
  },
  {
   "cell_type": "code",
   "execution_count": 28,
   "metadata": {},
   "outputs": [
    {
     "data": {
      "text/plain": [
       "Index(['id', 'first_name', 'second_name', 'team', 'element_type', 'code',\n",
       "       'element_code', 'season', 'total_points', 'minutes', 'goals_scored',\n",
       "       'assists', 'clean_sheets', 'goals_conceded', 'own_goals',\n",
       "       'penalties_saved', 'penalties_missed', 'yellow_cards', 'red_cards',\n",
       "       'saves', 'bonus', 'bps', 'influence', 'creativity', 'threat',\n",
       "       'ict_index', 'starts', 'expected_goals', 'expected_assists',\n",
       "       'expected_goal_involvements', 'expected_goals_conceded', 'start_cost',\n",
       "       'end_cost', 'Predicted_End_Cost'],\n",
       "      dtype='object')"
      ]
     },
     "execution_count": 28,
     "metadata": {},
     "output_type": "execute_result"
    }
   ],
   "source": [
    "#Import goalie-specific, model ready csv\n",
    "\n",
    "goalie_hist_stats = pd.read_csv(\"C:/Users/Daniel Quinn/Desktop/Bootcamp/Project_2/data/processed/end_cost_predictions_df_master.csv\")\n",
    "#Ensure we can read the whole dataframe, without \"...\"\n",
    "pd.set_option(\"display.max_rows\", None)\n",
    "goalie_hist_stats = goalie_hist_stats.drop(columns = ['Saves_Percentage', 'Unnamed: 0'])\n",
    "goalie_hist_stats.columns\n"
   ]
  },
  {
   "cell_type": "code",
   "execution_count": 29,
   "metadata": {},
   "outputs": [
    {
     "data": {
      "text/plain": [
       "(181, 35)"
      ]
     },
     "execution_count": 29,
     "metadata": {},
     "output_type": "execute_result"
    }
   ],
   "source": [
    "#Create Saves Percentage stat:\n",
    "\n",
    "goalie_hist_stats[\"Saves_Percentage\"] = (\n",
    "    (goalie_hist_stats['saves'] + goalie_hist_stats['penalties_saved']) /\n",
    "    (goalie_hist_stats['saves'] + goalie_hist_stats['penalties_saved'] + goalie_hist_stats['goals_conceded'])\n",
    ") * 100\n",
    "#pd.set_option(\"display.max_columns\", None)\n",
    "goalie_hist_stats.shape"
   ]
  },
  {
   "cell_type": "code",
   "execution_count": 24,
   "metadata": {},
   "outputs": [
    {
     "data": {
      "text/plain": [
       "(181, 35)"
      ]
     },
     "execution_count": 30,
     "metadata": {},
     "output_type": "execute_result"
    }
   ],
   "source": [
    "#Clean the dataframe of any irrelevant goalies - ie, those with not enough data to generate a saves percentage\n",
    "\n",
    "goalie_hist_stats_cleaned = goalie_hist_stats.dropna()\n",
    "goalie_hist_stats_cleaned.shape"
   ]
  },
  {
   "cell_type": "code",
   "execution_count": 26,
   "metadata": {},
   "outputs": [],
   "source": [
    "# Prep dataframe for modeling\n",
    "#Get only the goalies with meaningful stats\n",
    "\n",
    "\n",
    "# goalie_hist_model_ready_cleaned = goalie_hist_model_ready.drop(columns = ['season','first_name', 'second_name', 'team',  ])\n",
    "# # goalie_hist_model_ready.columns\n",
    "# goalie_hist_model_1_ready = goalie_hist_model_ready_cleaned[['id', 'element_type', 'code',\n",
    "#        'element_code', 'start_cost', 'end_cost', 'total_points', 'minutes',\n",
    "#        'assists', 'clean_sheets', 'goals_conceded', 'own_goals',\n",
    "#        'penalties_saved', 'saves', 'bonus', 'bps', 'ict_index', 'starts',\n",
    "#        'expected_goals', 'expected_assists', 'expected_goal_involvements',\n",
    "#        'expected_goals_conceded', 'Saves_Percentage']]\n"
   ]
  },
  {
   "cell_type": "code",
   "execution_count": 27,
   "metadata": {},
   "outputs": [
    {
     "data": {
      "text/plain": [
       "Index(['id', 'first_name', 'second_name', 'team', 'element_type', 'code',\n",
       "       'element_code', 'season', 'start_cost', 'end_cost', 'total_points',\n",
       "       'minutes', 'goals_scored', 'assists', 'clean_sheets', 'goals_conceded',\n",
       "       'own_goals', 'penalties_saved', 'penalties_missed', 'yellow_cards',\n",
       "       'red_cards', 'saves', 'bonus', 'bps', 'influence', 'creativity',\n",
       "       'threat', 'ict_index', 'starts', 'expected_goals', 'expected_assists',\n",
       "       'expected_goal_involvements', 'expected_goals_conceded',\n",
       "       'Saves_Percentage'],\n",
       "      dtype='object')"
      ]
     },
     "execution_count": 27,
     "metadata": {},
     "output_type": "execute_result"
    }
   ],
   "source": [
    "#Create a better dataframe name for going forward\n",
    "\n",
    "goalie_hist_model_2_ready = goalie_hist_stats_cleaned\n",
    "goalie_hist_model_2_ready.columns"
   ]
  },
  {
   "cell_type": "code",
   "execution_count": 36,
   "metadata": {},
   "outputs": [
    {
     "data": {
      "text/plain": [
       "own_goals                     0.917378\n",
       "threat                        0.915752\n",
       "starts                        0.912047\n",
       "assists                       0.811326\n",
       "expected_goals_conceded       0.786864\n",
       "creativity                    0.777239\n",
       "ict_index                     0.755579\n",
       "influence                     0.754513\n",
       "end_cost                      0.526741\n",
       "expected_goal_involvements    0.496294\n",
       "clean_sheets                  0.417995\n",
       "expected_goals                0.361442\n",
       "bps                           0.358049\n",
       "red_cards                     0.347271\n",
       "penalties_missed              0.336248\n",
       "expected_assists              0.318242\n",
       "goals_scored                  0.195739\n",
       "minutes                       0.144732\n",
       "bonus                         0.141742\n",
       "yellow_cards                  0.118835\n",
       "penalties_saved               0.117664\n",
       "total_points                  0.068951\n",
       "start_cost                    0.027218\n",
       "goals_conceded                0.001890\n",
       "saves                         0.000048\n",
       "dtype: float64"
      ]
     },
     "execution_count": 36,
     "metadata": {},
     "output_type": "execute_result"
    }
   ],
   "source": [
    "# Check p-value\n",
    "\n",
    "#Check the p-value to determine the statistical significance of each feature\n",
    "\n",
    "import statsmodels.api as sm\n",
    "\n",
    "#create X & y variables\n",
    "X = goalie_hist_model_2_ready.drop(columns = ['id', 'first_name', 'second_name', 'team', 'element_type', 'code',\n",
    "       'element_code', 'season', 'Saves_Percentage'])\n",
    "\n",
    "y = goalie_hist_model_2_ready['Saves_Percentage']\n",
    "\n",
    "#test-training split\n",
    "X_train, X_test, y_train, y_test = train_test_split(X, y, random_state=42)\n",
    "\n",
    "# Use the statsmodels package to create and fit a linear regression\n",
    "lr = sm.OLS(y_train, X_train).fit()\n",
    "lr.pvalues.sort_values(ascending=False)"
   ]
  },
  {
   "cell_type": "code",
   "execution_count": 38,
   "metadata": {},
   "outputs": [
    {
     "name": "stdout",
     "output_type": "stream",
     "text": [
      "Train model score:  0.26246888529115764\n",
      "Test model score:  0.22829695191496635\n"
     ]
    }
   ],
   "source": [
    "#create X & y variables\n",
    "X = goalie_hist_model_2_ready.drop(columns = ['id', 'first_name', 'second_name', 'team', 'element_type', 'code',\n",
    "       'element_code', 'season', 'start_cost', 'end_cost', 'total_points',\n",
    "       'minutes', 'goals_scored', 'assists', 'clean_sheets', 'yellow_cards',\n",
    "       'red_cards', 'bonus', 'bps', 'influence', 'creativity',\n",
    "       'threat', 'ict_index', 'expected_goals', 'expected_assists',\n",
    "       'expected_goal_involvements', 'expected_goals_conceded',\n",
    "       'Saves_Percentage'])\n",
    "\n",
    "y = goalie_hist_model_2_ready['Saves_Percentage']\n",
    "\n",
    "#test-training split\n",
    "X_train, X_test, y_train, y_test = train_test_split(X, y, random_state=42)\n",
    "\n",
    "#create model\n",
    "model = LinearRegression()\n",
    "\n",
    "model.fit(X_train, y_train)\n",
    "print(\"Train model score: \", model.score(X_train, y_train))\n",
    "print(\"Test model score: \", model.score(X_test, y_test))"
   ]
  },
  {
   "cell_type": "code",
   "execution_count": 18,
   "metadata": {},
   "outputs": [
    {
     "name": "stdout",
     "output_type": "stream",
     "text": [
      "All Features (Saves_Percentage = y):\n",
      "mean squared error (MSE): 11.437117549567208\n",
      "R-squared (R2): 0.6063351432285085\n"
     ]
    }
   ],
   "source": [
    "#Make predictions\n",
    "\n",
    "prediction1 = model.predict(X_test)\n",
    "\n",
    "#Evaluate models with mse and r2\n",
    "\n",
    "mse = mean_squared_error(y_test, prediction1) # how close are the predicted values to actual values via the squared differences between expected and real\n",
    "r2 = r2_score(y_test, prediction1) # r2 - how well do the indep variables explain the variation in the dep var? ) 0 is a perfect model, the larger the nuber, the worse the model is performing\n",
    "\n",
    "print(f\"All Features (Saves_Percentage = y):\")\n",
    "print(f\"mean squared error (MSE): {mse}\")\n",
    "print(f\"R-squared (R2): {r2}\")"
   ]
  },
  {
   "cell_type": "code",
   "execution_count": 19,
   "metadata": {},
   "outputs": [
    {
     "ename": "KeyError",
     "evalue": "\"['season_start_date', 'Goalie_Score', 'first_name', 'second_name'] not found in axis\"",
     "output_type": "error",
     "traceback": [
      "\u001b[1;31m---------------------------------------------------------------------------\u001b[0m",
      "\u001b[1;31mKeyError\u001b[0m                                  Traceback (most recent call last)",
      "Cell \u001b[1;32mIn[19], line 3\u001b[0m\n\u001b[0;32m      1\u001b[0m \u001b[38;5;66;03m#Run the model to get the predicted Goalie Score\u001b[39;00m\n\u001b[1;32m----> 3\u001b[0m predicted_Saves_Percentage \u001b[38;5;241m=\u001b[39m \u001b[43mgoalie_hist_model_1_ready\u001b[49m\u001b[38;5;241;43m.\u001b[39;49m\u001b[43mdrop\u001b[49m\u001b[43m(\u001b[49m\u001b[43mcolumns\u001b[49m\u001b[43m \u001b[49m\u001b[38;5;241;43m=\u001b[39;49m\u001b[43m \u001b[49m\u001b[43m[\u001b[49m\u001b[38;5;124;43m'\u001b[39;49m\u001b[38;5;124;43mseason_start_date\u001b[39;49m\u001b[38;5;124;43m'\u001b[39;49m\u001b[43m,\u001b[49m\u001b[43m \u001b[49m\u001b[38;5;124;43m'\u001b[39;49m\u001b[38;5;124;43mGoalie_Score\u001b[39;49m\u001b[38;5;124;43m'\u001b[39;49m\u001b[43m,\u001b[49m\u001b[43m \u001b[49m\u001b[38;5;124;43m'\u001b[39;49m\u001b[38;5;124;43mfirst_name\u001b[39;49m\u001b[38;5;124;43m'\u001b[39;49m\u001b[43m,\u001b[49m\u001b[43m \u001b[49m\u001b[38;5;124;43m'\u001b[39;49m\u001b[38;5;124;43msecond_name\u001b[39;49m\u001b[38;5;124;43m'\u001b[39;49m\u001b[43m]\u001b[49m\u001b[43m)\u001b[49m\n\u001b[0;32m      4\u001b[0m Goalie_Saves_Percentage \u001b[38;5;241m=\u001b[39m model\u001b[38;5;241m.\u001b[39mpredict(predicted_Goalie_Score)\n\u001b[0;32m      5\u001b[0m \u001b[38;5;28mprint\u001b[39m(Goalie_Saves_Percentage)\n",
      "File \u001b[1;32mc:\\Users\\Daniel Quinn\\anaconda3\\envs\\dev\\lib\\site-packages\\pandas\\core\\frame.py:5568\u001b[0m, in \u001b[0;36mDataFrame.drop\u001b[1;34m(self, labels, axis, index, columns, level, inplace, errors)\u001b[0m\n\u001b[0;32m   5420\u001b[0m \u001b[38;5;28;01mdef\u001b[39;00m \u001b[38;5;21mdrop\u001b[39m(\n\u001b[0;32m   5421\u001b[0m     \u001b[38;5;28mself\u001b[39m,\n\u001b[0;32m   5422\u001b[0m     labels: IndexLabel \u001b[38;5;241m|\u001b[39m \u001b[38;5;28;01mNone\u001b[39;00m \u001b[38;5;241m=\u001b[39m \u001b[38;5;28;01mNone\u001b[39;00m,\n\u001b[1;32m   (...)\u001b[0m\n\u001b[0;32m   5429\u001b[0m     errors: IgnoreRaise \u001b[38;5;241m=\u001b[39m \u001b[38;5;124m\"\u001b[39m\u001b[38;5;124mraise\u001b[39m\u001b[38;5;124m\"\u001b[39m,\n\u001b[0;32m   5430\u001b[0m ) \u001b[38;5;241m-\u001b[39m\u001b[38;5;241m>\u001b[39m DataFrame \u001b[38;5;241m|\u001b[39m \u001b[38;5;28;01mNone\u001b[39;00m:\n\u001b[0;32m   5431\u001b[0m \u001b[38;5;250m    \u001b[39m\u001b[38;5;124;03m\"\"\"\u001b[39;00m\n\u001b[0;32m   5432\u001b[0m \u001b[38;5;124;03m    Drop specified labels from rows or columns.\u001b[39;00m\n\u001b[0;32m   5433\u001b[0m \n\u001b[1;32m   (...)\u001b[0m\n\u001b[0;32m   5566\u001b[0m \u001b[38;5;124;03m            weight  1.0     0.8\u001b[39;00m\n\u001b[0;32m   5567\u001b[0m \u001b[38;5;124;03m    \"\"\"\u001b[39;00m\n\u001b[1;32m-> 5568\u001b[0m     \u001b[38;5;28;01mreturn\u001b[39;00m \u001b[38;5;28;43msuper\u001b[39;49m\u001b[43m(\u001b[49m\u001b[43m)\u001b[49m\u001b[38;5;241;43m.\u001b[39;49m\u001b[43mdrop\u001b[49m\u001b[43m(\u001b[49m\n\u001b[0;32m   5569\u001b[0m \u001b[43m        \u001b[49m\u001b[43mlabels\u001b[49m\u001b[38;5;241;43m=\u001b[39;49m\u001b[43mlabels\u001b[49m\u001b[43m,\u001b[49m\n\u001b[0;32m   5570\u001b[0m \u001b[43m        \u001b[49m\u001b[43maxis\u001b[49m\u001b[38;5;241;43m=\u001b[39;49m\u001b[43maxis\u001b[49m\u001b[43m,\u001b[49m\n\u001b[0;32m   5571\u001b[0m \u001b[43m        \u001b[49m\u001b[43mindex\u001b[49m\u001b[38;5;241;43m=\u001b[39;49m\u001b[43mindex\u001b[49m\u001b[43m,\u001b[49m\n\u001b[0;32m   5572\u001b[0m \u001b[43m        \u001b[49m\u001b[43mcolumns\u001b[49m\u001b[38;5;241;43m=\u001b[39;49m\u001b[43mcolumns\u001b[49m\u001b[43m,\u001b[49m\n\u001b[0;32m   5573\u001b[0m \u001b[43m        \u001b[49m\u001b[43mlevel\u001b[49m\u001b[38;5;241;43m=\u001b[39;49m\u001b[43mlevel\u001b[49m\u001b[43m,\u001b[49m\n\u001b[0;32m   5574\u001b[0m \u001b[43m        \u001b[49m\u001b[43minplace\u001b[49m\u001b[38;5;241;43m=\u001b[39;49m\u001b[43minplace\u001b[49m\u001b[43m,\u001b[49m\n\u001b[0;32m   5575\u001b[0m \u001b[43m        \u001b[49m\u001b[43merrors\u001b[49m\u001b[38;5;241;43m=\u001b[39;49m\u001b[43merrors\u001b[49m\u001b[43m,\u001b[49m\n\u001b[0;32m   5576\u001b[0m \u001b[43m    \u001b[49m\u001b[43m)\u001b[49m\n",
      "File \u001b[1;32mc:\\Users\\Daniel Quinn\\anaconda3\\envs\\dev\\lib\\site-packages\\pandas\\core\\generic.py:4785\u001b[0m, in \u001b[0;36mNDFrame.drop\u001b[1;34m(self, labels, axis, index, columns, level, inplace, errors)\u001b[0m\n\u001b[0;32m   4783\u001b[0m \u001b[38;5;28;01mfor\u001b[39;00m axis, labels \u001b[38;5;129;01min\u001b[39;00m axes\u001b[38;5;241m.\u001b[39mitems():\n\u001b[0;32m   4784\u001b[0m     \u001b[38;5;28;01mif\u001b[39;00m labels \u001b[38;5;129;01mis\u001b[39;00m \u001b[38;5;129;01mnot\u001b[39;00m \u001b[38;5;28;01mNone\u001b[39;00m:\n\u001b[1;32m-> 4785\u001b[0m         obj \u001b[38;5;241m=\u001b[39m \u001b[43mobj\u001b[49m\u001b[38;5;241;43m.\u001b[39;49m\u001b[43m_drop_axis\u001b[49m\u001b[43m(\u001b[49m\u001b[43mlabels\u001b[49m\u001b[43m,\u001b[49m\u001b[43m \u001b[49m\u001b[43maxis\u001b[49m\u001b[43m,\u001b[49m\u001b[43m \u001b[49m\u001b[43mlevel\u001b[49m\u001b[38;5;241;43m=\u001b[39;49m\u001b[43mlevel\u001b[49m\u001b[43m,\u001b[49m\u001b[43m \u001b[49m\u001b[43merrors\u001b[49m\u001b[38;5;241;43m=\u001b[39;49m\u001b[43merrors\u001b[49m\u001b[43m)\u001b[49m\n\u001b[0;32m   4787\u001b[0m \u001b[38;5;28;01mif\u001b[39;00m inplace:\n\u001b[0;32m   4788\u001b[0m     \u001b[38;5;28mself\u001b[39m\u001b[38;5;241m.\u001b[39m_update_inplace(obj)\n",
      "File \u001b[1;32mc:\\Users\\Daniel Quinn\\anaconda3\\envs\\dev\\lib\\site-packages\\pandas\\core\\generic.py:4827\u001b[0m, in \u001b[0;36mNDFrame._drop_axis\u001b[1;34m(self, labels, axis, level, errors, only_slice)\u001b[0m\n\u001b[0;32m   4825\u001b[0m         new_axis \u001b[38;5;241m=\u001b[39m axis\u001b[38;5;241m.\u001b[39mdrop(labels, level\u001b[38;5;241m=\u001b[39mlevel, errors\u001b[38;5;241m=\u001b[39merrors)\n\u001b[0;32m   4826\u001b[0m     \u001b[38;5;28;01melse\u001b[39;00m:\n\u001b[1;32m-> 4827\u001b[0m         new_axis \u001b[38;5;241m=\u001b[39m \u001b[43maxis\u001b[49m\u001b[38;5;241;43m.\u001b[39;49m\u001b[43mdrop\u001b[49m\u001b[43m(\u001b[49m\u001b[43mlabels\u001b[49m\u001b[43m,\u001b[49m\u001b[43m \u001b[49m\u001b[43merrors\u001b[49m\u001b[38;5;241;43m=\u001b[39;49m\u001b[43merrors\u001b[49m\u001b[43m)\u001b[49m\n\u001b[0;32m   4828\u001b[0m     indexer \u001b[38;5;241m=\u001b[39m axis\u001b[38;5;241m.\u001b[39mget_indexer(new_axis)\n\u001b[0;32m   4830\u001b[0m \u001b[38;5;66;03m# Case for non-unique axis\u001b[39;00m\n\u001b[0;32m   4831\u001b[0m \u001b[38;5;28;01melse\u001b[39;00m:\n",
      "File \u001b[1;32mc:\\Users\\Daniel Quinn\\anaconda3\\envs\\dev\\lib\\site-packages\\pandas\\core\\indexes\\base.py:7070\u001b[0m, in \u001b[0;36mIndex.drop\u001b[1;34m(self, labels, errors)\u001b[0m\n\u001b[0;32m   7068\u001b[0m \u001b[38;5;28;01mif\u001b[39;00m mask\u001b[38;5;241m.\u001b[39many():\n\u001b[0;32m   7069\u001b[0m     \u001b[38;5;28;01mif\u001b[39;00m errors \u001b[38;5;241m!=\u001b[39m \u001b[38;5;124m\"\u001b[39m\u001b[38;5;124mignore\u001b[39m\u001b[38;5;124m\"\u001b[39m:\n\u001b[1;32m-> 7070\u001b[0m         \u001b[38;5;28;01mraise\u001b[39;00m \u001b[38;5;167;01mKeyError\u001b[39;00m(\u001b[38;5;124mf\u001b[39m\u001b[38;5;124m\"\u001b[39m\u001b[38;5;132;01m{\u001b[39;00mlabels[mask]\u001b[38;5;241m.\u001b[39mtolist()\u001b[38;5;132;01m}\u001b[39;00m\u001b[38;5;124m not found in axis\u001b[39m\u001b[38;5;124m\"\u001b[39m)\n\u001b[0;32m   7071\u001b[0m     indexer \u001b[38;5;241m=\u001b[39m indexer[\u001b[38;5;241m~\u001b[39mmask]\n\u001b[0;32m   7072\u001b[0m \u001b[38;5;28;01mreturn\u001b[39;00m \u001b[38;5;28mself\u001b[39m\u001b[38;5;241m.\u001b[39mdelete(indexer)\n",
      "\u001b[1;31mKeyError\u001b[0m: \"['season_start_date', 'Goalie_Score', 'first_name', 'second_name'] not found in axis\""
     ]
    }
   ],
   "source": [
    "#Run the model to get the predicted Goalie Score\n",
    "\n",
    "predicted_Saves_Percentage = goalie_hist_model_1_ready.drop(columns = ['season_start_date', 'Goalie_Score', 'first_name', 'second_name'])\n",
    "Goalie_Saves_Percentage = model.predict(predicted_Goalie_Score)\n",
    "print(Goalie_Saves_Percentage)"
   ]
  },
  {
   "cell_type": "code",
   "execution_count": 42,
   "metadata": {},
   "outputs": [
    {
     "name": "stdout",
     "output_type": "stream",
     "text": [
      "Training Score: 0.9996168755316256\n",
      "Testing Score: 0.9974507584902772\n"
     ]
    }
   ],
   "source": [
    "#create X & y variables\n",
    "X = goalie_hist_model_1_ready.drop(columns=['season_start_date', 'first_name', 'second_name', 'Goalie_Score'])\n",
    "y = goalie_hist_model_1_ready['Goalie_Score']\n",
    "\n",
    "#test-training split\n",
    "X_train, X_test, y_train, y_test = train_test_split(X, y, random_state=42)\n",
    "\n",
    "#create & train model\n",
    "random_forest = RandomForestRegressor(n_estimators=500, random_state=42).fit(X_train, y_train)\n",
    "\n",
    "# Evaluate the model\n",
    "print(f\"Training Score: {random_forest.score(X_train, y_train)}\")\n",
    "print(f\"Testing Score: {random_forest.score(X_test, y_test)}\")"
   ]
  },
  {
   "cell_type": "code",
   "execution_count": 43,
   "metadata": {},
   "outputs": [
    {
     "name": "stdout",
     "output_type": "stream",
     "text": [
      "                                   0\n",
      "bps                         0.981318\n",
      "ict_index                   0.009356\n",
      "total_points                0.006314\n",
      "saves                       0.000846\n",
      "minutes                     0.000679\n",
      "id                          0.000238\n",
      "bonus                       0.000220\n",
      "code                        0.000218\n",
      "element_code                0.000153\n",
      "team                        0.000140\n",
      "goals_conceded              0.000136\n",
      "clean_sheets                0.000081\n",
      "end_cost                    0.000079\n",
      "starts                      0.000048\n",
      "start_cost                  0.000044\n",
      "penalties_saved             0.000040\n",
      "expected_goals_conceded     0.000039\n",
      "expected_assists            0.000016\n",
      "expected_goal_involvements  0.000014\n",
      "expected_goals              0.000009\n",
      "own_goals                   0.000007\n",
      "assists                     0.000005\n",
      "element_type                0.000000\n"
     ]
    }
   ],
   "source": [
    "# Feature Importance\n",
    "feature_importances = random_forest.feature_importances_\n",
    "\n",
    "feature_importances_df = pd.DataFrame(feature_importances, X.columns)\n",
    "\n",
    "\n",
    "print(feature_importances_df.sort_values(by=0, ascending=False))"
   ]
  }
 ],
 "metadata": {
  "kernelspec": {
   "display_name": "dev",
   "language": "python",
   "name": "python3"
  },
  "language_info": {
   "codemirror_mode": {
    "name": "ipython",
    "version": 3
   },
   "file_extension": ".py",
   "mimetype": "text/x-python",
   "name": "python",
   "nbconvert_exporter": "python",
   "pygments_lexer": "ipython3",
   "version": "3.10.14"
  }
 },
 "nbformat": 4,
 "nbformat_minor": 2
}
