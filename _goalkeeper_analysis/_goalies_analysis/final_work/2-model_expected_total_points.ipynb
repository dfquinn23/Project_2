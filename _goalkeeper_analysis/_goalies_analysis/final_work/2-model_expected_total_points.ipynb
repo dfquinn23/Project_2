{
 "cells": [
  {
   "cell_type": "markdown",
   "metadata": {},
   "source": [
    "# Using the total_points dataset to determine goalie rankings"
   ]
  },
  {
   "cell_type": "code",
   "execution_count": 1,
   "metadata": {},
   "outputs": [],
   "source": [
    "import pandas as pd\n",
    "import numpy as np\n",
    "import requests\n",
    "from sklearn.model_selection import train_test_split\n",
    "from sklearn.metrics import mean_absolute_error, mean_squared_error, r2_score\n",
    "from sklearn.linear_model import LinearRegression\n",
    "from matplotlib import pyplot as plt\n",
    "from sklearn.ensemble import RandomForestRegressor\n",
    "from sklearn.preprocessing import StandardScaler\n"
   ]
  },
  {
   "cell_type": "code",
   "execution_count": 2,
   "metadata": {},
   "outputs": [
    {
     "data": {
      "text/html": [
       "<div>\n",
       "<style scoped>\n",
       "    .dataframe tbody tr th:only-of-type {\n",
       "        vertical-align: middle;\n",
       "    }\n",
       "\n",
       "    .dataframe tbody tr th {\n",
       "        vertical-align: top;\n",
       "    }\n",
       "\n",
       "    .dataframe thead th {\n",
       "        text-align: right;\n",
       "    }\n",
       "</style>\n",
       "<table border=\"1\" class=\"dataframe\">\n",
       "  <thead>\n",
       "    <tr style=\"text-align: right;\">\n",
       "      <th></th>\n",
       "      <th>id</th>\n",
       "      <th>first_name</th>\n",
       "      <th>second_name</th>\n",
       "      <th>team</th>\n",
       "      <th>element_type</th>\n",
       "      <th>code</th>\n",
       "      <th>element_code</th>\n",
       "      <th>season</th>\n",
       "      <th>total_points</th>\n",
       "      <th>minutes</th>\n",
       "      <th>...</th>\n",
       "      <th>ict_index</th>\n",
       "      <th>starts</th>\n",
       "      <th>expected_goals</th>\n",
       "      <th>expected_assists</th>\n",
       "      <th>expected_goal_involvements</th>\n",
       "      <th>expected_goals_conceded</th>\n",
       "      <th>Saves_Percentage</th>\n",
       "      <th>start_cost</th>\n",
       "      <th>end_cost</th>\n",
       "      <th>Predicted_End_Cost</th>\n",
       "    </tr>\n",
       "  </thead>\n",
       "  <tbody>\n",
       "    <tr>\n",
       "      <th>0</th>\n",
       "      <td>15</td>\n",
       "      <td>David</td>\n",
       "      <td>Raya Martin</td>\n",
       "      <td>1</td>\n",
       "      <td>1</td>\n",
       "      <td>154561</td>\n",
       "      <td>154561</td>\n",
       "      <td>2021</td>\n",
       "      <td>95</td>\n",
       "      <td>2160</td>\n",
       "      <td>...</td>\n",
       "      <td>60.1</td>\n",
       "      <td>0</td>\n",
       "      <td>0.00</td>\n",
       "      <td>0.00</td>\n",
       "      <td>0.00</td>\n",
       "      <td>0.00</td>\n",
       "      <td>74.285714</td>\n",
       "      <td>45</td>\n",
       "      <td>44</td>\n",
       "      <td>45.376</td>\n",
       "    </tr>\n",
       "    <tr>\n",
       "      <th>1</th>\n",
       "      <td>15</td>\n",
       "      <td>David</td>\n",
       "      <td>Raya Martin</td>\n",
       "      <td>1</td>\n",
       "      <td>1</td>\n",
       "      <td>154561</td>\n",
       "      <td>154561</td>\n",
       "      <td>2022</td>\n",
       "      <td>166</td>\n",
       "      <td>3420</td>\n",
       "      <td>...</td>\n",
       "      <td>117.3</td>\n",
       "      <td>38</td>\n",
       "      <td>0.11</td>\n",
       "      <td>0.12</td>\n",
       "      <td>0.23</td>\n",
       "      <td>50.12</td>\n",
       "      <td>77.000000</td>\n",
       "      <td>45</td>\n",
       "      <td>48</td>\n",
       "      <td>49.154</td>\n",
       "    </tr>\n",
       "    <tr>\n",
       "      <th>2</th>\n",
       "      <td>15</td>\n",
       "      <td>David</td>\n",
       "      <td>Raya Martin</td>\n",
       "      <td>1</td>\n",
       "      <td>1</td>\n",
       "      <td>154561</td>\n",
       "      <td>154561</td>\n",
       "      <td>2023</td>\n",
       "      <td>135</td>\n",
       "      <td>2880</td>\n",
       "      <td>...</td>\n",
       "      <td>41.1</td>\n",
       "      <td>32</td>\n",
       "      <td>0.00</td>\n",
       "      <td>0.04</td>\n",
       "      <td>0.04</td>\n",
       "      <td>22.51</td>\n",
       "      <td>66.197183</td>\n",
       "      <td>50</td>\n",
       "      <td>53</td>\n",
       "      <td>54.892</td>\n",
       "    </tr>\n",
       "    <tr>\n",
       "      <th>3</th>\n",
       "      <td>73</td>\n",
       "      <td>Norberto</td>\n",
       "      <td>Murara Neto</td>\n",
       "      <td>1</td>\n",
       "      <td>1</td>\n",
       "      <td>69752</td>\n",
       "      <td>69752</td>\n",
       "      <td>2022</td>\n",
       "      <td>93</td>\n",
       "      <td>2385</td>\n",
       "      <td>...</td>\n",
       "      <td>72.8</td>\n",
       "      <td>27</td>\n",
       "      <td>0.00</td>\n",
       "      <td>0.02</td>\n",
       "      <td>0.02</td>\n",
       "      <td>44.70</td>\n",
       "      <td>71.942446</td>\n",
       "      <td>45</td>\n",
       "      <td>45</td>\n",
       "      <td>44.196</td>\n",
       "    </tr>\n",
       "    <tr>\n",
       "      <th>4</th>\n",
       "      <td>73</td>\n",
       "      <td>Norberto</td>\n",
       "      <td>Murara Neto</td>\n",
       "      <td>1</td>\n",
       "      <td>1</td>\n",
       "      <td>69752</td>\n",
       "      <td>69752</td>\n",
       "      <td>2023</td>\n",
       "      <td>110</td>\n",
       "      <td>2880</td>\n",
       "      <td>...</td>\n",
       "      <td>87.5</td>\n",
       "      <td>32</td>\n",
       "      <td>0.00</td>\n",
       "      <td>0.01</td>\n",
       "      <td>0.01</td>\n",
       "      <td>49.66</td>\n",
       "      <td>67.455621</td>\n",
       "      <td>45</td>\n",
       "      <td>46</td>\n",
       "      <td>46.408</td>\n",
       "    </tr>\n",
       "  </tbody>\n",
       "</table>\n",
       "<p>5 rows × 35 columns</p>\n",
       "</div>"
      ],
      "text/plain": [
       "   id first_name  second_name  team  element_type    code  element_code  \\\n",
       "0  15      David  Raya Martin     1             1  154561        154561   \n",
       "1  15      David  Raya Martin     1             1  154561        154561   \n",
       "2  15      David  Raya Martin     1             1  154561        154561   \n",
       "3  73   Norberto  Murara Neto     1             1   69752         69752   \n",
       "4  73   Norberto  Murara Neto     1             1   69752         69752   \n",
       "\n",
       "   season  total_points  minutes  ...  ict_index  starts  expected_goals  \\\n",
       "0    2021            95     2160  ...       60.1       0            0.00   \n",
       "1    2022           166     3420  ...      117.3      38            0.11   \n",
       "2    2023           135     2880  ...       41.1      32            0.00   \n",
       "3    2022            93     2385  ...       72.8      27            0.00   \n",
       "4    2023           110     2880  ...       87.5      32            0.00   \n",
       "\n",
       "   expected_assists  expected_goal_involvements  expected_goals_conceded  \\\n",
       "0              0.00                        0.00                     0.00   \n",
       "1              0.12                        0.23                    50.12   \n",
       "2              0.04                        0.04                    22.51   \n",
       "3              0.02                        0.02                    44.70   \n",
       "4              0.01                        0.01                    49.66   \n",
       "\n",
       "   Saves_Percentage  start_cost  end_cost  Predicted_End_Cost  \n",
       "0         74.285714          45        44              45.376  \n",
       "1         77.000000          45        48              49.154  \n",
       "2         66.197183          50        53              54.892  \n",
       "3         71.942446          45        45              44.196  \n",
       "4         67.455621          45        46              46.408  \n",
       "\n",
       "[5 rows x 35 columns]"
      ]
     },
     "execution_count": 2,
     "metadata": {},
     "output_type": "execute_result"
    }
   ],
   "source": [
    "#Import goalie-specific, model ready csv\n",
    "\n",
    "all_goalies = pd.read_csv(\"C:/Users/Daniel Quinn/Desktop/Bootcamp/Project_2/data/processed/end_cost_predictions_df_master.csv\")\n",
    "\n",
    "#Ensure we can read the whole dataframe, without \"...\"\n",
    "pd.set_option(\"display.max_rows\", None)\n",
    "all_goalies = all_goalies.drop(columns = ['Unnamed: 0'])\n",
    "all_goalies.head()\n"
   ]
  },
  {
   "cell_type": "code",
   "execution_count": 3,
   "metadata": {},
   "outputs": [
    {
     "data": {
      "text/plain": [
       "(181, 35)"
      ]
     },
     "execution_count": 3,
     "metadata": {},
     "output_type": "execute_result"
    }
   ],
   "source": [
    "#Create Saves Percentage stat to screen irrelevant players via a dropna():\n",
    "all_goalies_dropna = all_goalies\n",
    "all_goalies_dropna[\"Saves_Percentage\"] = (all_goalies['saves'] + all_goalies['penalties_saved']) / (all_goalies['saves'] + all_goalies['penalties_saved'] + all_goalies['goals_conceded']) * 100\n",
    "#pd.set_option(\"display.max_columns\", None)\n",
    "all_goalies_dropna = all_goalies.dropna()\n",
    "all_goalies_dropna.shape\n"
   ]
  },
  {
   "cell_type": "code",
   "execution_count": 4,
   "metadata": {},
   "outputs": [
    {
     "data": {
      "text/plain": [
       "Index(['id', 'first_name', 'second_name', 'team', 'element_type', 'code',\n",
       "       'element_code', 'season', 'total_points', 'minutes', 'goals_scored',\n",
       "       'assists', 'clean_sheets', 'goals_conceded', 'own_goals',\n",
       "       'penalties_saved', 'penalties_missed', 'yellow_cards', 'red_cards',\n",
       "       'saves', 'bonus', 'bps', 'influence', 'creativity', 'threat',\n",
       "       'ict_index', 'starts', 'expected_goals', 'expected_assists',\n",
       "       'expected_goal_involvements', 'expected_goals_conceded',\n",
       "       'Saves_Percentage', 'start_cost', 'end_cost', 'Predicted_End_Cost'],\n",
       "      dtype='object')"
      ]
     },
     "execution_count": 4,
     "metadata": {},
     "output_type": "execute_result"
    }
   ],
   "source": [
    "#Create a better dataframe name for going forward\n",
    "\n",
    "#goalie_hist_model_2_ready \n",
    "goalie_hist_model_1 = all_goalies_dropna\n",
    "goalie_hist_model_1.columns"
   ]
  },
  {
   "cell_type": "code",
   "execution_count": 5,
   "metadata": {},
   "outputs": [
    {
     "data": {
      "text/plain": [
       "minutes                       0.952519\n",
       "expected_goal_involvements    0.784980\n",
       "ict_index                     0.726721\n",
       "bps                           0.713543\n",
       "starts                        0.637350\n",
       "expected_goals_conceded       0.519998\n",
       "goals_conceded                0.474923\n",
       "penalties_saved               0.470761\n",
       "clean_sheets                  0.431686\n",
       "saves                         0.352007\n",
       "own_goals                     0.321933\n",
       "bonus                         0.282440\n",
       "assists                       0.281112\n",
       "total_points                  0.219594\n",
       "dtype: float64"
      ]
     },
     "execution_count": 5,
     "metadata": {},
     "output_type": "execute_result"
    }
   ],
   "source": [
    "#Check the p-value to determine the statistical significance of each features\n",
    "\n",
    "goalie_hist_model_2 = goalie_hist_model_1[['minutes', 'total_points', 'clean_sheets', 'goals_conceded',\n",
    "                                                       'saves', 'ict_index', 'bonus', 'bps',\n",
    "                                                       'expected_goals_conceded', 'starts', 'penalties_saved', 'expected_goal_involvements',\n",
    "                                                       'assists', 'own_goals', 'end_cost']]\n",
    "\n",
    "import statsmodels.api as sm\n",
    "\n",
    "#create X & y variables\n",
    "X = goalie_hist_model_2.drop(columns = ['end_cost'])\n",
    "y = goalie_hist_model_2['end_cost']\n",
    "\n",
    "#test-training split\n",
    "X_train, X_test, y_train, y_test = train_test_split(X, y, random_state=42)\n",
    "\n",
    "# Use the statsmodels package to create and fit a linear regression\n",
    "lr = sm.OLS(y_train, X_train).fit()\n",
    "lr.pvalues.sort_values(ascending=False)"
   ]
  },
  {
   "cell_type": "markdown",
   "metadata": {},
   "source": [
    "# Regressions for total_points"
   ]
  },
  {
   "cell_type": "code",
   "execution_count": 6,
   "metadata": {},
   "outputs": [
    {
     "name": "stdout",
     "output_type": "stream",
     "text": [
      "Train model score:  0.9893634268945906\n",
      "Test model score:  0.9928922028218434\n"
     ]
    }
   ],
   "source": [
    "#Linear Regression\n",
    "# #create X & y variables\n",
    "X = goalie_hist_model_1[['minutes', 'goals_scored', 'clean_sheets', 'penalties_saved', \n",
    "                              'penalties_missed', 'bps', 'bonus', 'yellow_cards',\n",
    "                              'red_cards', 'own_goals', 'goals_conceded']]\n",
    "y = goalie_hist_model_1['total_points']\n",
    "\n",
    "#test-training split\n",
    "X_train, X_test, y_train, y_test = train_test_split(X, y, random_state=42)\n",
    "\n",
    "#create model\n",
    "lr_model = LinearRegression()\n",
    "\n",
    "lr_model.fit(X_train, y_train)\n",
    "print(\"Train model score: \", lr_model.score(X_train, y_train))\n",
    "print(\"Test model score: \", lr_model.score(X_test, y_test))"
   ]
  },
  {
   "cell_type": "code",
   "execution_count": 7,
   "metadata": {},
   "outputs": [
    {
     "name": "stdout",
     "output_type": "stream",
     "text": [
      "All Features (Saves_Percentage = y):\n",
      "mean squared error (MSE): 21.97171937840257\n",
      "R-squared (R2): 0.9928922028218434\n"
     ]
    }
   ],
   "source": [
    "#Make predictions\n",
    "\n",
    "prediction1 = lr_model.predict(X_test)\n",
    "\n",
    "#Evaluate models with mse and r2\n",
    "\n",
    "mse = mean_squared_error(y_test, prediction1) # how close are the predicted values to actual values via the squared differences between expected and real\n",
    "r2 = r2_score(y_test, prediction1) # r2 - how well do the indep variables explain the variation in the dep var? ) 0 is a perfect model, the larger the nuber, the worse the model is performing\n",
    "\n",
    "print(f\"All Features (Saves_Percentage = y):\")\n",
    "print(f\"mean squared error (MSE): {mse}\")\n",
    "print(f\"R-squared (R2): {r2}\")"
   ]
  },
  {
   "cell_type": "markdown",
   "metadata": {},
   "source": [
    "# RFR\n",
    "I deleted \"minutes\" from the below RFR model because it was given way too much importance. With it gone, \"saves\" moves up dramatically (which makes sense, given that these are goalies...) Doing so made almost no difference in the Linear Regression above."
   ]
  },
  {
   "cell_type": "code",
   "execution_count": 8,
   "metadata": {},
   "outputs": [
    {
     "name": "stdout",
     "output_type": "stream",
     "text": [
      "Training Score: 0.9961915330083903\n",
      "Testing Score: 0.9768280660644353\n"
     ]
    }
   ],
   "source": [
    "#Random Forest\n",
    "# #create X & y variables\n",
    "X = goalie_hist_model_1[['minutes', 'goals_scored', 'clean_sheets', 'penalties_saved', \n",
    "                              'penalties_missed', 'bps', 'bonus', 'yellow_cards',\n",
    "                              'red_cards', 'own_goals', 'goals_conceded']]\n",
    "y = goalie_hist_model_1['total_points']\n",
    "\n",
    "#test-training split\n",
    "X_train, X_test, y_train, y_test = train_test_split(X, y, random_state=42)\n",
    "\n",
    "#create & train model\n",
    "random_forest = RandomForestRegressor(n_estimators=500, random_state=42).fit(X_train, y_train)\n",
    "\n",
    "# Evaluate the model\n",
    "print(f\"Training Score: {random_forest.score(X_train, y_train)}\")\n",
    "print(f\"Testing Score: {random_forest.score(X_test, y_test)}\")"
   ]
  },
  {
   "cell_type": "code",
   "execution_count": 9,
   "metadata": {},
   "outputs": [
    {
     "name": "stdout",
     "output_type": "stream",
     "text": [
      "                         0\n",
      "minutes           0.859602\n",
      "clean_sheets      0.058745\n",
      "bps               0.058516\n",
      "goals_conceded    0.011610\n",
      "bonus             0.006483\n",
      "penalties_saved   0.002202\n",
      "yellow_cards      0.001867\n",
      "own_goals         0.000443\n",
      "goals_scored      0.000293\n",
      "red_cards         0.000240\n",
      "penalties_missed  0.000000\n"
     ]
    }
   ],
   "source": [
    "# Feature Importance\n",
    "feature_importances = random_forest.feature_importances_\n",
    "\n",
    "feature_importances_df = pd.DataFrame(feature_importances, X.columns)\n",
    "\n",
    "\n",
    "print(feature_importances_df.sort_values(by=0, ascending=False))\n",
    "\n"
   ]
  },
  {
   "cell_type": "markdown",
   "metadata": {},
   "source": [
    "# Predictions:\n",
    "There is no difference between the LR & RFR predicted values:"
   ]
  },
  {
   "cell_type": "code",
   "execution_count": 10,
   "metadata": {},
   "outputs": [
    {
     "data": {
      "text/html": [
       "<div>\n",
       "<style scoped>\n",
       "    .dataframe tbody tr th:only-of-type {\n",
       "        vertical-align: middle;\n",
       "    }\n",
       "\n",
       "    .dataframe tbody tr th {\n",
       "        vertical-align: top;\n",
       "    }\n",
       "\n",
       "    .dataframe thead th {\n",
       "        text-align: right;\n",
       "    }\n",
       "</style>\n",
       "<table border=\"1\" class=\"dataframe\">\n",
       "  <thead>\n",
       "    <tr style=\"text-align: right;\">\n",
       "      <th></th>\n",
       "      <th>0</th>\n",
       "    </tr>\n",
       "  </thead>\n",
       "  <tbody>\n",
       "    <tr>\n",
       "      <th>0</th>\n",
       "      <td>88.418522</td>\n",
       "    </tr>\n",
       "    <tr>\n",
       "      <th>1</th>\n",
       "      <td>156.273654</td>\n",
       "    </tr>\n",
       "    <tr>\n",
       "      <th>2</th>\n",
       "      <td>140.399451</td>\n",
       "    </tr>\n",
       "    <tr>\n",
       "      <th>3</th>\n",
       "      <td>88.518613</td>\n",
       "    </tr>\n",
       "    <tr>\n",
       "      <th>4</th>\n",
       "      <td>111.510105</td>\n",
       "    </tr>\n",
       "    <tr>\n",
       "      <th>5</th>\n",
       "      <td>13.254059</td>\n",
       "    </tr>\n",
       "    <tr>\n",
       "      <th>6</th>\n",
       "      <td>7.222626</td>\n",
       "    </tr>\n",
       "    <tr>\n",
       "      <th>7</th>\n",
       "      <td>28.622998</td>\n",
       "    </tr>\n",
       "    <tr>\n",
       "      <th>8</th>\n",
       "      <td>181.250025</td>\n",
       "    </tr>\n",
       "    <tr>\n",
       "      <th>9</th>\n",
       "      <td>127.273513</td>\n",
       "    </tr>\n",
       "    <tr>\n",
       "      <th>10</th>\n",
       "      <td>137.154353</td>\n",
       "    </tr>\n",
       "    <tr>\n",
       "      <th>11</th>\n",
       "      <td>124.857562</td>\n",
       "    </tr>\n",
       "    <tr>\n",
       "      <th>12</th>\n",
       "      <td>26.818264</td>\n",
       "    </tr>\n",
       "    <tr>\n",
       "      <th>13</th>\n",
       "      <td>1.871310</td>\n",
       "    </tr>\n",
       "    <tr>\n",
       "      <th>14</th>\n",
       "      <td>9.346329</td>\n",
       "    </tr>\n",
       "  </tbody>\n",
       "</table>\n",
       "</div>"
      ],
      "text/plain": [
       "             0\n",
       "0    88.418522\n",
       "1   156.273654\n",
       "2   140.399451\n",
       "3    88.518613\n",
       "4   111.510105\n",
       "5    13.254059\n",
       "6     7.222626\n",
       "7    28.622998\n",
       "8   181.250025\n",
       "9   127.273513\n",
       "10  137.154353\n",
       "11  124.857562\n",
       "12   26.818264\n",
       "13    1.871310\n",
       "14    9.346329"
      ]
     },
     "execution_count": 10,
     "metadata": {},
     "output_type": "execute_result"
    }
   ],
   "source": [
    "#LR Predict:\n",
    "\n",
    "predicted_total_points_lr = goalie_hist_model_1[['minutes', 'goals_scored', 'clean_sheets', 'penalties_saved', \n",
    "                              'penalties_missed', 'bps', 'bonus', 'yellow_cards',\n",
    "                              'red_cards', 'own_goals', 'goals_conceded']]\n",
    "\n",
    "y_new_pred_total_points_lr = lr_model.predict(predicted_total_points_lr)\n",
    "y_new_pred_total_points_lr\n",
    "\n",
    "exp_total_points_lr = pd.DataFrame(y_new_pred_total_points_lr)\n",
    "exp_total_points_lr.head(15)\n",
    "\n"
   ]
  },
  {
   "cell_type": "code",
   "execution_count": 11,
   "metadata": {},
   "outputs": [
    {
     "data": {
      "text/html": [
       "<div>\n",
       "<style scoped>\n",
       "    .dataframe tbody tr th:only-of-type {\n",
       "        vertical-align: middle;\n",
       "    }\n",
       "\n",
       "    .dataframe tbody tr th {\n",
       "        vertical-align: top;\n",
       "    }\n",
       "\n",
       "    .dataframe thead th {\n",
       "        text-align: right;\n",
       "    }\n",
       "</style>\n",
       "<table border=\"1\" class=\"dataframe\">\n",
       "  <thead>\n",
       "    <tr style=\"text-align: right;\">\n",
       "      <th></th>\n",
       "      <th>0</th>\n",
       "    </tr>\n",
       "  </thead>\n",
       "  <tbody>\n",
       "    <tr>\n",
       "      <th>0</th>\n",
       "      <td>90.344</td>\n",
       "    </tr>\n",
       "    <tr>\n",
       "      <th>1</th>\n",
       "      <td>160.620</td>\n",
       "    </tr>\n",
       "    <tr>\n",
       "      <th>2</th>\n",
       "      <td>135.108</td>\n",
       "    </tr>\n",
       "    <tr>\n",
       "      <th>3</th>\n",
       "      <td>93.902</td>\n",
       "    </tr>\n",
       "    <tr>\n",
       "      <th>4</th>\n",
       "      <td>110.714</td>\n",
       "    </tr>\n",
       "    <tr>\n",
       "      <th>5</th>\n",
       "      <td>12.692</td>\n",
       "    </tr>\n",
       "    <tr>\n",
       "      <th>6</th>\n",
       "      <td>7.924</td>\n",
       "    </tr>\n",
       "    <tr>\n",
       "      <th>7</th>\n",
       "      <td>32.890</td>\n",
       "    </tr>\n",
       "    <tr>\n",
       "      <th>8</th>\n",
       "      <td>178.858</td>\n",
       "    </tr>\n",
       "    <tr>\n",
       "      <th>9</th>\n",
       "      <td>134.268</td>\n",
       "    </tr>\n",
       "    <tr>\n",
       "      <th>10</th>\n",
       "      <td>136.462</td>\n",
       "    </tr>\n",
       "    <tr>\n",
       "      <th>11</th>\n",
       "      <td>116.510</td>\n",
       "    </tr>\n",
       "    <tr>\n",
       "      <th>12</th>\n",
       "      <td>23.944</td>\n",
       "    </tr>\n",
       "    <tr>\n",
       "      <th>13</th>\n",
       "      <td>1.390</td>\n",
       "    </tr>\n",
       "    <tr>\n",
       "      <th>14</th>\n",
       "      <td>11.066</td>\n",
       "    </tr>\n",
       "  </tbody>\n",
       "</table>\n",
       "</div>"
      ],
      "text/plain": [
       "          0\n",
       "0    90.344\n",
       "1   160.620\n",
       "2   135.108\n",
       "3    93.902\n",
       "4   110.714\n",
       "5    12.692\n",
       "6     7.924\n",
       "7    32.890\n",
       "8   178.858\n",
       "9   134.268\n",
       "10  136.462\n",
       "11  116.510\n",
       "12   23.944\n",
       "13    1.390\n",
       "14   11.066"
      ]
     },
     "execution_count": 11,
     "metadata": {},
     "output_type": "execute_result"
    }
   ],
   "source": [
    "#RFR Predict:\n",
    "\n",
    "predicted_total_points_rfr = goalie_hist_model_1[['minutes', 'goals_scored', 'clean_sheets', 'penalties_saved', \n",
    "                              'penalties_missed', 'bps', 'bonus', 'yellow_cards',\n",
    "                              'red_cards', 'own_goals', 'goals_conceded']]\n",
    "\n",
    "y_new_pred_total_points_rfr = random_forest.predict(predicted_total_points_rfr)\n",
    "y_new_pred_total_points_rfr\n",
    "\n",
    "exp_total_points_rfr = pd.DataFrame(y_new_pred_total_points_rfr)\n",
    "exp_total_points_rfr.head(15)\n"
   ]
  },
  {
   "cell_type": "code",
   "execution_count": 12,
   "metadata": {},
   "outputs": [
    {
     "data": {
      "text/plain": [
       "Index(['id', 'first_name', 'second_name', 'team', 'element_type', 'code',\n",
       "       'element_code', 'season', 'minutes', 'total_points',\n",
       "       'Predicted_Total_Points'],\n",
       "      dtype='object')"
      ]
     },
     "execution_count": 12,
     "metadata": {},
     "output_type": "execute_result"
    }
   ],
   "source": [
    "# Create new dataframe with expected total_points\n",
    "\n",
    "total_points_predictions_df_master = goalie_hist_model_1\n",
    "total_points_predictions_df_master['Predicted_Total_Points'] = exp_total_points_rfr\n",
    "total_points_predictions_df_master = total_points_predictions_df_master[['id', 'first_name', 'second_name', 'team', 'element_type', 'code',\n",
    "       'element_code', 'season', 'minutes', 'total_points', 'Predicted_Total_Points']]\n",
    "\n",
    "total_points_predictions_df_master.head(10)\n",
    "\n",
    "total_points_predictions_df_master.to_csv(\"C:/Users/Daniel Quinn/Desktop/Bootcamp/Project_2/data/processed/total_point_predictions_df_master.csv\")\n",
    "total_points_predictions_df_master.sort_values('second_name', ascending=True)\n",
    "total_points_predictions_df_master.columns\n"
   ]
  },
  {
   "cell_type": "code",
   "execution_count": 13,
   "metadata": {},
   "outputs": [],
   "source": [
    "# Create new dataframe with expected total_points\n",
    "\n",
    "total_points_predictions_df_master = goalie_hist_model_1\n",
    "total_points_predictions_df_master['Predicted_Total_Points'] = exp_total_points_rfr\n",
    "total_points_predictions_df_master = total_points_predictions_df_master[['id', 'first_name', 'second_name', 'team', 'element_type', 'code',\n",
    "       'element_code', 'season', 'minutes', 'total_points', 'Predicted_Total_Points']]\n",
    "\n",
    "total_points_predictions_df_master.head(10)\n",
    "\n",
    "#export to csv\n",
    "total_points_predictions_df_master.to_csv(\"C:/Users/Daniel Quinn/Desktop/Bootcamp/Project_2/data/processed/total_point_predictions_df_master.csv\")\n",
    "total_points_predictions_df_master.sort_values('second_name', ascending=True)\n",
    "\n",
    "#edit dataframe down for final merge\n",
    "goalie_final_merge = total_points_predictions_df_master[['season', 'first_name', 'second_name', 'Predicted_Total_Points']]\n",
    "goalie_final_merge = goalie_final_merge[goalie_final_merge['season'] == 2023]\n",
    "goalie_final_merge.sort_values('Predicted_Total_Points', ascending=False)\n",
    "\n",
    "#scale data for congruence with Matt's dataset from Sorare\n",
    "goalie_final_merge[\"Predicted_Total_Points\"] = goalie_final_merge[\"Predicted_Total_Points\"]/2\n",
    "goalie_final_merge.head()\n",
    "\n",
    "#export final document for merge into model\n",
    "goalie_final_merge.to_csv('C:/Users/Daniel Quinn/Desktop/Bootcamp/Project_2/data/processed/goalie_final_merge.csv')"
   ]
  },
  {
   "cell_type": "code",
   "execution_count": null,
   "metadata": {},
   "outputs": [],
   "source": []
  },
  {
   "cell_type": "code",
   "execution_count": 14,
   "metadata": {},
   "outputs": [
    {
     "name": "stderr",
     "output_type": "stream",
     "text": [
      "c:\\Users\\Daniel Quinn\\anaconda3\\envs\\dev\\lib\\site-packages\\sklearn\\base.py:493: UserWarning: X does not have valid feature names, but RandomForestRegressor was fitted with feature names\n",
      "  warnings.warn(\n"
     ]
    },
    {
     "data": {
      "image/png": "[encoded data removed]",
      "text/plain": [
       "<Figure size 800x550 with 2 Axes>"
      ]
     },
     "metadata": {},
     "output_type": "display_data"
    },
    {
     "data": {
      "text/plain": [
       "<Axes: title={'center': 'Residuals for RandomForestRegressor Model'}, xlabel='Predicted Value', ylabel='Residuals'>"
      ]
     },
     "execution_count": 14,
     "metadata": {},
     "output_type": "execute_result"
    }
   ],
   "source": [
    "#residuals plot for svm\n",
    "from yellowbrick.regressor import ResidualsPlot\n",
    "# Initialize ResidualsPlot\n",
    "visualizer = ResidualsPlot(random_forest)\n",
    "visualizer.fit(X_train, y_train)  # Fit the training data to the visualizer\n",
    "visualizer.score(X_test, y_test)  # Evaluate the model on the test data\n",
    "visualizer.show()  # Finalize and show the figure"
   ]
  },
  {
   "cell_type": "code",
   "execution_count": 15,
   "metadata": {},
   "outputs": [
    {
     "name": "stderr",
     "output_type": "stream",
     "text": [
      "c:\\Users\\Daniel Quinn\\anaconda3\\envs\\dev\\lib\\site-packages\\sklearn\\base.py:493: UserWarning: X does not have valid feature names, but LinearRegression was fitted with feature names\n",
      "  warnings.warn(\n"
     ]
    },
    {
     "data": {
      "image/png": "[encoded data removed]",
      "text/plain": [
       "<Figure size 800x550 with 2 Axes>"
      ]
     },
     "metadata": {},
     "output_type": "display_data"
    },
    {
     "data": {
      "text/plain": [
       "<Axes: title={'center': 'Residuals for LinearRegression Model'}, xlabel='Predicted Value', ylabel='Residuals'>"
      ]
     },
     "execution_count": 15,
     "metadata": {},
     "output_type": "execute_result"
    }
   ],
   "source": [
    "# Initialize ResidualsPlot\n",
    "visualizer = ResidualsPlot(lr_model)\n",
    "visualizer.fit(X_train, y_train)  # Fit the training data to the visualizer\n",
    "visualizer.score(X_test, y_test)  # Evaluate the model on the test data\n",
    "visualizer.show()  # Finalize and show the figure"
   ]
  }
 ],
 "metadata": {
  "kernelspec": {
   "display_name": "dev",
   "language": "python",
   "name": "python3"
  },
  "language_info": {
   "codemirror_mode": {
    "name": "ipython",
    "version": 3
   },
   "file_extension": ".py",
   "mimetype": "text/x-python",
   "name": "python",
   "nbconvert_exporter": "python",
   "pygments_lexer": "ipython3",
   "version": "3.10.14"
  }
 },
 "nbformat": 4,
 "nbformat_minor": 2
}
