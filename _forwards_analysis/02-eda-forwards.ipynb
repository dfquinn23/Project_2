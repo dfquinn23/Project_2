{
 "cells": [
  {
   "cell_type": "markdown",
   "metadata": {},
   "source": [
    "#### Objective: Explore FPL data to identify key insights for fantasy league predictions."
   ]
  },
  {
   "cell_type": "code",
   "execution_count": 1,
   "metadata": {},
   "outputs": [
    {
     "ename": "NameError",
     "evalue": "name 'current_players_df' is not defined",
     "output_type": "error",
     "traceback": [
      "\u001b[0;31m---------------------------------------------------------------------------\u001b[0m",
      "\u001b[0;31mNameError\u001b[0m                                 Traceback (most recent call last)",
      "Cell \u001b[0;32mIn[1], line 16\u001b[0m\n\u001b[1;32m     11\u001b[0m player_reference_df \u001b[38;5;241m=\u001b[39m pd\u001b[38;5;241m.\u001b[39mread_csv(\u001b[38;5;124m'\u001b[39m\u001b[38;5;124m../data/raw/player_reference.csv\u001b[39m\u001b[38;5;124m'\u001b[39m)\n\u001b[1;32m     14\u001b[0m \u001b[38;5;66;03m# Merge with current season's data to get team IDs\u001b[39;00m\n\u001b[1;32m     15\u001b[0m forwards_df \u001b[38;5;241m=\u001b[39m forwards_df\u001b[38;5;241m.\u001b[39mmerge(\n\u001b[0;32m---> 16\u001b[0m     \u001b[43mcurrent_players_df\u001b[49m[[\u001b[38;5;124m'\u001b[39m\u001b[38;5;124mcode\u001b[39m\u001b[38;5;124m'\u001b[39m, \u001b[38;5;124m'\u001b[39m\u001b[38;5;124mteam\u001b[39m\u001b[38;5;124m'\u001b[39m]],\n\u001b[1;32m     17\u001b[0m     left_on\u001b[38;5;241m=\u001b[39m\u001b[38;5;124m'\u001b[39m\u001b[38;5;124melement_code\u001b[39m\u001b[38;5;124m'\u001b[39m,\n\u001b[1;32m     18\u001b[0m     right_on\u001b[38;5;241m=\u001b[39m\u001b[38;5;124m'\u001b[39m\u001b[38;5;124mcode\u001b[39m\u001b[38;5;124m'\u001b[39m,\n\u001b[1;32m     19\u001b[0m     how\u001b[38;5;241m=\u001b[39m\u001b[38;5;124m'\u001b[39m\u001b[38;5;124mleft\u001b[39m\u001b[38;5;124m'\u001b[39m\n\u001b[1;32m     20\u001b[0m )\n\u001b[1;32m     22\u001b[0m \u001b[38;5;66;03m# Merge with teams data to get team names\u001b[39;00m\n\u001b[1;32m     23\u001b[0m forwards_df \u001b[38;5;241m=\u001b[39m forwards_df\u001b[38;5;241m.\u001b[39mmerge(\n\u001b[1;32m     24\u001b[0m     teams_df[[\u001b[38;5;124m'\u001b[39m\u001b[38;5;124mid\u001b[39m\u001b[38;5;124m'\u001b[39m, \u001b[38;5;124m'\u001b[39m\u001b[38;5;124mname\u001b[39m\u001b[38;5;124m'\u001b[39m]],\n\u001b[1;32m     25\u001b[0m     left_on\u001b[38;5;241m=\u001b[39m\u001b[38;5;124m'\u001b[39m\u001b[38;5;124mteam\u001b[39m\u001b[38;5;124m'\u001b[39m,\n\u001b[1;32m     26\u001b[0m     right_on\u001b[38;5;241m=\u001b[39m\u001b[38;5;124m'\u001b[39m\u001b[38;5;124mid\u001b[39m\u001b[38;5;124m'\u001b[39m,\n\u001b[1;32m     27\u001b[0m     how\u001b[38;5;241m=\u001b[39m\u001b[38;5;124m'\u001b[39m\u001b[38;5;124mleft\u001b[39m\u001b[38;5;124m'\u001b[39m\n\u001b[1;32m     28\u001b[0m )\n",
      "\u001b[0;31mNameError\u001b[0m: name 'current_players_df' is not defined"
     ]
    }
   ],
   "source": [
    "import pandas as pd\n",
    "import matplotlib.pyplot as plt\n",
    "import seaborn as sns\n",
    "import os\n",
    "\n",
    "# Base path for cleaned data\n",
    "base_cleaned_path = '../data/cleaned/'\n",
    "\n",
    "# Load the cleaned forward data\n",
    "forwards_df = pd.read_csv(os.path.join(base_cleaned_path, 'forward/forward_cleaned.csv'))\n",
    "player_reference_df = pd.read_csv('../data/raw/player_reference.csv')\n",
    "\n",
    "\n",
    "# Merge with current season's data to get team IDs\n",
    "forwards_df = forwards_df.merge(\n",
    "    current_players_df[['code', 'team']],\n",
    "    left_on='element_code',\n",
    "    right_on='code',\n",
    "    how='left'\n",
    ")\n",
    "\n",
    "# Merge with teams data to get team names\n",
    "forwards_df = forwards_df.merge(\n",
    "    teams_df[['id', 'name']],\n",
    "    left_on='team',\n",
    "    right_on='id',\n",
    "    how='left'\n",
    ")\n",
    "\n",
    "# Rename the 'name' column to 'team_name' for clarity\n",
    "forwards_df.rename(columns={'name': 'team_name'}, inplace=True)\n",
    "\n",
    "# Use the most recent names for players (from the reference data)\n",
    "forwards_df['player_name'] = forwards_df['first_name_ref'] + ' ' + forwards_df['second_name_ref']\n",
    "\n",
    "# Calculate points per game\n",
    "forwards_df['points_per_game'] = forwards_df['total_points'] / (forwards_df['minutes'] / 90)\n",
    "\n",
    "# Plot total points by team\n",
    "plt.figure(figsize=(16, 8))\n",
    "sns.boxplot(x='team_name', y='total_points', data=midfielders_df)\n",
    "plt.title('Total Points by Team (Midfielders)')\n",
    "plt.xticks(rotation=45, ha='right')\n",
    "plt.ylabel('Total Points')\n",
    "plt.xlabel('Team')\n",
    "plt.tight_layout()\n",
    "plt.show()\n",
    "\n",
    "# Plot average points per game by team\n",
    "plt.figure(figsize=(16, 8))\n",
    "sns.barplot(x='team_name', y='points_per_game', data=midfielders_df, estimator=lambda x: x.mean())\n",
    "plt.title('Average Points per Game by Team (Midfielders)')\n",
    "plt.xticks(rotation=45, ha='right')\n",
    "plt.ylabel('Average Points per Game')\n",
    "plt.xlabel('Team')\n",
    "plt.tight_layout()\n",
    "plt.show()\n",
    "\n",
    "# Display summary statistics\n",
    "team_stats = midfielders_df.groupby('team_name').agg({\n",
    "    'total_points': ['mean', 'median', 'std', 'min', 'max'],\n",
    "    'points_per_game': ['mean', 'median', 'std', 'min', 'max']\n",
    "}).sort_values(('total_points', 'mean'), ascending=False)\n",
    "\n",
    "print(\"\\nSummary Statistics for Teams (Midfielders):\")\n",
    "print(team_stats)\n",
    "\n",
    "# Top 10 midfielders by total points\n",
    "top_midfielders = midfielders_df.nlargest(10, 'total_points')\n",
    "print(\"\\nTop 10 Midfielders by Total Points:\")\n",
    "print(top_midfielders[['player_name', 'team_name', 'total_points', 'points_per_game']])\n",
    "\n",
    "# Correlation heatmap of key metrics\n",
    "correlation_metrics = ['total_points', 'minutes', 'goals_scored', 'assists', 'clean_sheets', \n",
    "                       'influence', 'creativity', 'threat', 'ict_index', 'expected_goals', \n",
    "                       'expected_assists', 'expected_goal_involvements']\n",
    "\n",
    "plt.figure(figsize=(12, 10))\n",
    "sns.heatmap(midfielders_df[correlation_metrics].corr(), annot=True, cmap='coolwarm', vmin=-1, vmax=1, center=0)\n",
    "plt.title('Correlation Heatmap of Key Metrics for Midfielders')\n",
    "plt.tight_layout()\n",
    "plt.show()"
   ]
  },
  {
   "cell_type": "code",
   "execution_count": 2,
   "metadata": {},
   "outputs": [
    {
     "ename": "NameError",
     "evalue": "name 'midfielders_df' is not defined",
     "output_type": "error",
     "traceback": [
      "\u001b[0;31m---------------------------------------------------------------------------\u001b[0m",
      "\u001b[0;31mNameError\u001b[0m                                 Traceback (most recent call last)",
      "Cell \u001b[0;32mIn[2], line 5\u001b[0m\n\u001b[1;32m      3\u001b[0m plt\u001b[38;5;241m.\u001b[39mfigure(figsize\u001b[38;5;241m=\u001b[39m(\u001b[38;5;241m12\u001b[39m, \u001b[38;5;241m6\u001b[39m))\n\u001b[1;32m      4\u001b[0m \u001b[38;5;66;03m# Calculate value for money (points per million cost)\u001b[39;00m\n\u001b[0;32m----> 5\u001b[0m midfielders_df[\u001b[38;5;124m'\u001b[39m\u001b[38;5;124mvalue_for_money\u001b[39m\u001b[38;5;124m'\u001b[39m] \u001b[38;5;241m=\u001b[39m \u001b[43mmidfielders_df\u001b[49m[\u001b[38;5;124m'\u001b[39m\u001b[38;5;124mtotal_points\u001b[39m\u001b[38;5;124m'\u001b[39m] \u001b[38;5;241m/\u001b[39m midfielders_df[\u001b[38;5;124m'\u001b[39m\u001b[38;5;124mend_cost\u001b[39m\u001b[38;5;124m'\u001b[39m]\n\u001b[1;32m      7\u001b[0m \u001b[38;5;66;03m# Create scatter plot\u001b[39;00m\n\u001b[1;32m      8\u001b[0m plt\u001b[38;5;241m.\u001b[39mfigure(figsize\u001b[38;5;241m=\u001b[39m(\u001b[38;5;241m12\u001b[39m, \u001b[38;5;241m6\u001b[39m))\n",
      "\u001b[0;31mNameError\u001b[0m: name 'midfielders_df' is not defined"
     ]
    },
    {
     "data": {
      "text/plain": [
       "<Figure size 1200x600 with 0 Axes>"
      ]
     },
     "metadata": {},
     "output_type": "display_data"
    }
   ],
   "source": [
    "# Value for money: Compare cost vs points\n",
    "# Value for money: Compare cost vs points for midfielders\n",
    "plt.figure(figsize=(12, 6))\n",
    "# Calculate value for money (points per million cost)\n",
    "midfielders_df['value_for_money'] = midfielders_df['total_points'] / midfielders_df['end_cost']\n",
    "\n",
    "# Create scatter plot\n",
    "plt.figure(figsize=(12, 6))\n",
    "scatter = plt.scatter(midfielders_df['end_cost'], midfielders_df['total_points'], \n",
    "                      c=midfielders_df['value_for_money'], cmap='viridis', alpha=0.6)\n",
    "\n",
    "# Add colorbar\n",
    "cbar = plt.colorbar(scatter)\n",
    "cbar.set_label('Value for Money (Points per Million)', rotation=270, labelpad=15)\n",
    "\n",
    "# Customize plot\n",
    "plt.title('Midfielder Value: Cost vs Total Points')\n",
    "plt.xlabel('Cost (in millions)')\n",
    "plt.ylabel('Total Points')\n",
    "\n",
    "# Add annotations for top 5 value for money players\n",
    "top_value_players = midfielders_df.nlargest(5, 'value_for_money')\n",
    "# for idx, player in top_value_players.iterrows():\n",
    "    # plt.annotate(player['player_name'], \n",
    "    #              (player['end_cost'], player['total_points']),\n",
    "    #              xytext=(5, 5), textcoords='offset points')\n",
    "\n",
    "plt.tight_layout()\n",
    "\n"
   ]
  },
  {
   "cell_type": "code",
   "execution_count": 33,
   "metadata": {},
   "outputs": [],
   "source": [
    "#save the dataframe processed\n",
    "midfielders_df.to_csv('../data/processed/midfielders_processed.csv', index=False)"
   ]
  }
 ],
 "metadata": {
  "kernelspec": {
   "display_name": "dev",
   "language": "python",
   "name": "python3"
  },
  "language_info": {
   "codemirror_mode": {
    "name": "ipython",
    "version": 3
   },
   "file_extension": ".py",
   "mimetype": "text/x-python",
   "name": "python",
   "nbconvert_exporter": "python",
   "pygments_lexer": "ipython3",
   "version": "3.10.14"
  }
 },
 "nbformat": 4,
 "nbformat_minor": 2
}
