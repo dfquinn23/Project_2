{
 "cells": [
  {
   "cell_type": "markdown",
   "metadata": {},
   "source": [
    "This notebook will focus on establishing initial investigation for:\n",
    "1. Fetching data from the API.\n",
    "2. Selecting and extracting relevant fields.\n",
    "3. Preprocessing and cleaning the data (handling missing values, normalizing, etc.)."
   ]
  },
  {
   "cell_type": "code",
   "execution_count": 7,
   "metadata": {},
   "outputs": [
    {
     "name": "stdout",
     "output_type": "stream",
     "text": [
      "  first_name           second_name  team  element_type  clean_sheets  \\\n",
      "0      Fábio       Ferreira Vieira     1             3             0   \n",
      "1    Gabriel     Fernando de Jesus     1             4             0   \n",
      "2    Gabriel  dos Santos Magalhães     1             2             2   \n",
      "3        Kai               Havertz     1             4             2   \n",
      "4       Karl                  Hein     1             1             0   \n",
      "\n",
      "   goals_conceded  yellow_cards  red_cards  minutes  bps  starts  own_goals  \n",
      "0               0             0          0        0    0       0          0  \n",
      "1               0             1          0        5    1       0          0  \n",
      "2               1             1          0      255   59       3          0  \n",
      "3               1             0          0      255   76       3          0  \n",
      "4               0             0          0        0    0       0          0  \n"
     ]
    }
   ],
   "source": [
    "# Dependencies\n",
    "import requests\n",
    "import pandas as pd\n",
    "\n",
    "\n",
    "# API Endpoint\n",
    "url = 'https://fantasy.premierleague.com/api/bootstrap-static/'\n",
    "\n",
    "# Send a GET request to the API\n",
    "response = requests.get(url)\n",
    "\n",
    "# Check if the request was successful\n",
    "if response.status_code == 200:\n",
    "    data = response.json()\n",
    "    \n",
    "    # Extract player data from the 'elements' key\n",
    "    players = data['elements']\n",
    "    \n",
    "    # Create a DataFrame with the relevant defensive metrics\n",
    "    df = pd.DataFrame(players)\n",
    "    \n",
    "    # Select relevant columns for defensive analysis\n",
    "    defensive_metrics_df = df[['first_name', 'second_name', 'team', 'element_type', 'clean_sheets', \n",
    "                               'goals_conceded', 'yellow_cards', 'red_cards', 'minutes', \n",
    "                               'bps', 'starts', 'own_goals']]\n",
    "    \n",
    "    # Display the first few rows of the DataFrame\n",
    "    print(defensive_metrics_df.head())\n",
    "else:\n",
    "    print(f\"Failed to retrieve data. Status code: {response.status_code}\")"
   ]
  },
  {
   "cell_type": "code",
   "execution_count": 8,
   "metadata": {},
   "outputs": [
    {
     "name": "stdout",
     "output_type": "stream",
     "text": [
      "   first_name           second_name     team element_type  clean_sheets  \\\n",
      "2     Gabriel  dos Santos Magalhães  Arsenal     Defender             2   \n",
      "5     Jurriën                Timber  Arsenal     Defender             1   \n",
      "7       Jakub                Kiwior  Arsenal     Defender             0   \n",
      "14    William                Saliba  Arsenal     Defender             2   \n",
      "16     Kieran               Tierney  Arsenal     Defender             0   \n",
      "\n",
      "    goals_conceded  yellow_cards  red_cards  minutes  bps  starts  own_goals  \n",
      "2                1             1          0      255   59       3          0  \n",
      "5                1             1          0      174   28       2          0  \n",
      "7                0             0          0        0    0       0          0  \n",
      "14               1             0          0      255   63       3          0  \n",
      "16               0             0          0        0    0       0          0  \n"
     ]
    },
    {
     "name": "stderr",
     "output_type": "stream",
     "text": [
      "/var/folders/h3/xtqxxtn9551c8dd44chd8lbc0000gn/T/ipykernel_13052/1846421686.py:10: SettingWithCopyWarning: \n",
      "A value is trying to be set on a copy of a slice from a DataFrame.\n",
      "Try using .loc[row_indexer,col_indexer] = value instead\n",
      "\n",
      "See the caveats in the documentation: https://pandas.pydata.org/pandas-docs/stable/user_guide/indexing.html#returning-a-view-versus-a-copy\n",
      "  defensive_metrics_df['element_type'] = defensive_metrics_df['element_type'].map(position_mapping)\n"
     ]
    }
   ],
   "source": [
    "# Mapping for element_type (position type)\n",
    "position_mapping = {\n",
    "    1: 'Goalkeeper',\n",
    "    2: 'Defender',\n",
    "    3: 'Midfielder',\n",
    "    4: 'Forward'\n",
    "}\n",
    "\n",
    "# Apply the mapping to the 'element_type' column\n",
    "defensive_metrics_df['element_type'] = defensive_metrics_df['element_type'].map(position_mapping)\n",
    "\n",
    "# Filter the DataFrame to include only rows where 'element_type' is 'Defender'\n",
    "defensive_metrics_df = defensive_metrics_df[defensive_metrics_df['element_type'] == 'Defender']\n",
    "\n",
    "# Mapping team codes to team names\n",
    "team_mapping = {team['id']: team['name'] for team in data['teams']}\n",
    "defensive_metrics_df['team'] = defensive_metrics_df['team'].map(team_mapping)\n",
    "\n",
    "# Display the updated DataFrame\n",
    "print(defensive_metrics_df.head())"
   ]
  },
  {
   "cell_type": "markdown",
   "metadata": {},
   "source": [
    "Data Cleaning"
   ]
  },
  {
   "cell_type": "code",
   "execution_count": 9,
   "metadata": {},
   "outputs": [
    {
     "name": "stdout",
     "output_type": "stream",
     "text": [
      "first_name        0\n",
      "second_name       0\n",
      "team              0\n",
      "element_type      0\n",
      "clean_sheets      0\n",
      "goals_conceded    0\n",
      "yellow_cards      0\n",
      "red_cards         0\n",
      "minutes           0\n",
      "bps               0\n",
      "starts            0\n",
      "own_goals         0\n",
      "dtype: int64\n"
     ]
    }
   ],
   "source": [
    "# Check for missing values\n",
    "print(defensive_metrics_df.isnull().sum())"
   ]
  },
  {
   "cell_type": "code",
   "execution_count": 10,
   "metadata": {},
   "outputs": [
    {
     "name": "stdout",
     "output_type": "stream",
     "text": [
      "<class 'pandas.core.frame.DataFrame'>\n",
      "Index: 208 entries, 2 to 636\n",
      "Data columns (total 12 columns):\n",
      " #   Column          Non-Null Count  Dtype \n",
      "---  ------          --------------  ----- \n",
      " 0   first_name      208 non-null    object\n",
      " 1   second_name     208 non-null    object\n",
      " 2   team            208 non-null    object\n",
      " 3   element_type    208 non-null    object\n",
      " 4   clean_sheets    208 non-null    int64 \n",
      " 5   goals_conceded  208 non-null    int64 \n",
      " 6   yellow_cards    208 non-null    int64 \n",
      " 7   red_cards       208 non-null    int64 \n",
      " 8   minutes         208 non-null    int64 \n",
      " 9   bps             208 non-null    int64 \n",
      " 10  starts          208 non-null    int64 \n",
      " 11  own_goals       208 non-null    int64 \n",
      "dtypes: int64(8), object(4)\n",
      "memory usage: 21.1+ KB\n"
     ]
    }
   ],
   "source": [
    "defensive_metrics_df.info()"
   ]
  },
  {
   "cell_type": "code",
   "execution_count": 11,
   "metadata": {},
   "outputs": [
    {
     "name": "stdout",
     "output_type": "stream",
     "text": [
      "   first_name           second_name     team element_type  clean_sheets  \\\n",
      "2     Gabriel  dos Santos Magalhães  Arsenal     Defender             2   \n",
      "5     Jurriën                Timber  Arsenal     Defender             1   \n",
      "7       Jakub                Kiwior  Arsenal     Defender             0   \n",
      "14    William                Saliba  Arsenal     Defender             2   \n",
      "16     Kieran               Tierney  Arsenal     Defender             0   \n",
      "\n",
      "    goals_conceded  yellow_cards  red_cards  minutes  bps  starts  own_goals  \\\n",
      "2                1             1          0      255   59       3          0   \n",
      "5                1             1          0      174   28       2          0   \n",
      "7                0             0          0        0    0       0          0   \n",
      "14               1             0          0      255   63       3          0   \n",
      "16               0             0          0        0    0       0          0   \n",
      "\n",
      "    clean_sheets_per_90  goals_conceded_per_90  bps_per_90  \n",
      "2              0.705882               0.352941   20.823529  \n",
      "5              0.517241               0.517241   14.482759  \n",
      "7              0.000000               0.000000    0.000000  \n",
      "14             0.705882               0.352941   22.235294  \n",
      "16             0.000000               0.000000    0.000000  \n"
     ]
    }
   ],
   "source": [
    "# Normalize the relevant metrics to account for playing time differences.\n",
    "\n",
    "# Calculate per 90-minute statistics\n",
    "defensive_metrics_df['clean_sheets_per_90'] = (defensive_metrics_df['clean_sheets'] / defensive_metrics_df['minutes']) * 90\n",
    "defensive_metrics_df['goals_conceded_per_90'] = (defensive_metrics_df['goals_conceded'] / defensive_metrics_df['minutes']) * 90\n",
    "defensive_metrics_df['bps_per_90'] = (defensive_metrics_df['bps'] / defensive_metrics_df['minutes']) * 90\n",
    "\n",
    "# Fill NaN values resulting from normalization (e.g., players with zero minutes)\n",
    "defensive_metrics_df.fillna(0, inplace=True)\n",
    "\n",
    "# Display the updated DataFrame\n",
    "print(defensive_metrics_df.head())"
   ]
  },
  {
   "cell_type": "markdown",
   "metadata": {},
   "source": [
    "Exploratory Data Analysis (EDA):"
   ]
  },
  {
   "cell_type": "code",
   "execution_count": 12,
   "metadata": {},
   "outputs": [
    {
     "data": {
      "text/plain": [
       "starts    3\n",
       "dtype: int64"
      ]
     },
     "execution_count": 12,
     "metadata": {},
     "output_type": "execute_result"
    }
   ],
   "source": [
    "defensive_metrics_df[['starts']].max()"
   ]
  }
 ],
 "metadata": {
  "kernelspec": {
   "display_name": "nu-dev",
   "language": "python",
   "name": "python3"
  },
  "language_info": {
   "codemirror_mode": {
    "name": "ipython",
    "version": 3
   },
   "file_extension": ".py",
   "mimetype": "text/x-python",
   "name": "python",
   "nbconvert_exporter": "python",
   "pygments_lexer": "ipython3",
   "version": "3.11.9"
  }
 },
 "nbformat": 4,
 "nbformat_minor": 2
}
