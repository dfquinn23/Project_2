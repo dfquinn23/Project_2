{
 "cells": [
  {
   "cell_type": "markdown",
   "metadata": {},
   "source": [
    "## Import necessary libraries and define utility functions.\n",
    "1. Exploring bootstrap-static Endpoint: Fetch general game and player data.\n",
    "2. Exploring Player-Specific Data: Use element-summary endpoint to get detailed player stats.\n",
    "3. Exploring Fixture Data: Use the fixtures endpoint to get fixture information.\n",
    "4. Exploring Gameweek Data: Fetch live gameweek data for specific gameweeks.\n",
    "5. Exploring League Data: Fetch standings from a sample league.\n",
    "6. Summary and Next Steps: Summarize findings and outline next steps for analysis."
   ]
  },
  {
   "cell_type": "code",
   "execution_count": 1,
   "metadata": {},
   "outputs": [],
   "source": [
    "# Dependencies\n",
    "import requests\n",
    "import pandas as pd"
   ]
  },
  {
   "cell_type": "code",
   "execution_count": 2,
   "metadata": {},
   "outputs": [],
   "source": [
    "# Function to fetch data from an endpoint\n",
    "def fetch_data(url):\n",
    "    response = requests.get(url)\n",
    "    if response.status_code == 200:\n",
    "        return response.json()\n",
    "    else:\n",
    "        print(f\"Failed to retrieve data. Status code: {response.status_code}\")\n",
    "        return None\n",
    "\n",
    "# Base URLs for different endpoints\n",
    "base_url = 'https://fantasy.premierleague.com/api/'"
   ]
  },
  {
   "cell_type": "code",
   "execution_count": 3,
   "metadata": {},
   "outputs": [
    {
     "name": "stdout",
     "output_type": "stream",
     "text": [
      "Keys in bootstrap data: dict_keys(['events', 'game_settings', 'phases', 'teams', 'total_players', 'elements', 'element_stats', 'element_types'])\n",
      "-----\n",
      "Index(['chance_of_playing_next_round', 'chance_of_playing_this_round', 'code',\n",
      "       'cost_change_event', 'cost_change_event_fall', 'cost_change_start',\n",
      "       'cost_change_start_fall', 'dreamteam_count', 'element_type', 'ep_next',\n",
      "       'ep_this', 'event_points', 'first_name', 'form', 'id', 'in_dreamteam',\n",
      "       'news', 'news_added', 'now_cost', 'photo', 'points_per_game',\n",
      "       'second_name', 'selected_by_percent', 'special', 'squad_number',\n",
      "       'status', 'team', 'team_code', 'total_points', 'transfers_in',\n",
      "       'transfers_in_event', 'transfers_out', 'transfers_out_event',\n",
      "       'value_form', 'value_season', 'web_name', 'minutes', 'goals_scored',\n",
      "       'assists', 'clean_sheets', 'goals_conceded', 'own_goals',\n",
      "       'penalties_saved', 'penalties_missed', 'yellow_cards', 'red_cards',\n",
      "       'saves', 'bonus', 'bps', 'influence', 'creativity', 'threat',\n",
      "       'ict_index', 'starts', 'expected_goals', 'expected_assists',\n",
      "       'expected_goal_involvements', 'expected_goals_conceded',\n",
      "       'influence_rank', 'influence_rank_type', 'creativity_rank',\n",
      "       'creativity_rank_type', 'threat_rank', 'threat_rank_type',\n",
      "       'ict_index_rank', 'ict_index_rank_type',\n",
      "       'corners_and_indirect_freekicks_order',\n",
      "       'corners_and_indirect_freekicks_text', 'direct_freekicks_order',\n",
      "       'direct_freekicks_text', 'penalties_order', 'penalties_text',\n",
      "       'expected_goals_per_90', 'saves_per_90', 'expected_assists_per_90',\n",
      "       'expected_goal_involvements_per_90', 'expected_goals_conceded_per_90',\n",
      "       'goals_conceded_per_90', 'now_cost_rank', 'now_cost_rank_type',\n",
      "       'form_rank', 'form_rank_type', 'points_per_game_rank',\n",
      "       'points_per_game_rank_type', 'selected_rank', 'selected_rank_type',\n",
      "       'starts_per_90', 'clean_sheets_per_90'],\n",
      "      dtype='object')\n"
     ]
    }
   ],
   "source": [
    "# Exploring bootstrap-static Endpoint\n",
    "# Fetch data from bootstrap-static endpoint\n",
    "bootstrap_url = base_url + 'bootstrap-static/'\n",
    "bootstrap_data = fetch_data(bootstrap_url)\n",
    "\n",
    "if bootstrap_data:\n",
    "    # Display keys in the bootstrap data\n",
    "    print(\"Keys in bootstrap data:\", bootstrap_data.keys())\n",
    "\n",
    "    # Explore player data\n",
    "    players_df = pd.DataFrame(bootstrap_data['elements'])\n",
    "    #print(players_df.head())\n",
    "    print(\"-----\")\n",
    "    print(players_df.columns)"
   ]
  },
  {
   "cell_type": "markdown",
   "metadata": {},
   "source": [
    "### bootstrap-static Endpoint Discovery\n",
    "Use this endpoint to build a foundational dataset of player and team information. This will be the primary source for player attributes and current season stats.\n",
    "\n",
    "#### Keys in the bootstrap-static Data\n",
    "1. `events`: \n",
    "* Information about each gameweek, including deadlines, average scores, and chips played.\n",
    "2. `game_settings`: \n",
    "* General settings of the game, like squad size, chip availability, and other configuration parameters.\n",
    "3. `phases`: \n",
    "* Data about the different phases or segments of the season.\n",
    "4. `teams`: \n",
    "* Information about each Premier League team, including their names, short names, and codes.\n",
    "5. `total_players`: \n",
    "* Total number of players participating in the Fantasy Premier League.\n",
    "6. `elements`: \n",
    "* Detailed player data. This is a crucial dataset that includes all active players and their associated stats.\n",
    "7. `element_stats`: \n",
    "* Available statistical categories, potentially used to display player data.\n",
    "8. `element_types`: Information about player positions (e.g., goalkeeper, defender, midfielder, forward).\n",
    "\n",
    "#### Columns in the Player Data (elements)\n",
    "Player Information:\n",
    "1. `first_name`, `second_name`, `web_name`: \n",
    "* Names of the players.\n",
    "2. `team`, `team_code`: \n",
    "* Team ID and code indicating the player's current team.\n",
    "3. `element_type`: \n",
    "* Position type ID (e.g., 1 for goalkeepers, 2 for defenders).\n",
    "\n",
    "Playing Status: \n",
    "1. `chance_of_playing_next_round`, `chance_of_playing_this_round`: \n",
    "* Probabilities indicating the player's likelihood of playing.\n",
    "2. `status`: \n",
    "* Player's status (e.g., available, injured, suspended).\n",
    "\n",
    "Fantasy Game Metrics:\n",
    "1. `now_cost`: \n",
    "* Current price of the player in the game (multiplied by 10, e.g., 50 represents 5.0m).\n",
    "2. `points_per_game`: \n",
    "* Average points scored by the player per game.\n",
    "3. `selected_by_percent`: \n",
    "* Percentage of fantasy teams that have selected the player.\n",
    "\n",
    "Performance Metrics:\n",
    "1. `minutes`: \n",
    "* Total minutes played.\n",
    "2. `goals_scored`, `assists`, `clean_sheets`, `goals_conceded`, `own_goals`: \n",
    "* Key performance indicators.\n",
    "3. `yellow_cards`, `red_cards`: \n",
    "* Number of yellow and red cards received.\n",
    "4. `bonus`, `bps`: \n",
    "* Bonus points and Bonus Points System score.\n",
    "\n",
    "Advanced Metrics:\n",
    "1. `influence`, `creativity`, `threat`, `ict_index`: ICT index components measuring player influence, creativity, and threat.\n",
    "2. `expected_goals`, `expected_assists`, `expected_goal_involvements`, `expected_goals_conceded`: Expected stats based on shot quality, position, and historical data.\n",
    "3. `starts`: Number of games started.\n",
    "\n",
    "Per 90 Metrics:\n",
    "* `expected_goals_per_90`, `saves_per_90`, `expected_assists_per_90`, `expected_goal_involvements_per_90`, `expected_goals_conceded_per_90`, `goals_conceded_per_90`, `clean_sheets_per_90`: Metrics normalized per 90 minutes to allow fair comparison across players."
   ]
  },
  {
   "cell_type": "code",
   "execution_count": 4,
   "metadata": {},
   "outputs": [
    {
     "name": "stdout",
     "output_type": "stream",
     "text": [
      "Keys in player data: dict_keys(['fixtures', 'history', 'history_past'])\n",
      "Index(['season_name', 'element_code', 'start_cost', 'end_cost', 'total_points',\n",
      "       'minutes', 'goals_scored', 'assists', 'clean_sheets', 'goals_conceded',\n",
      "       'own_goals', 'penalties_saved', 'penalties_missed', 'yellow_cards',\n",
      "       'red_cards', 'saves', 'bonus', 'bps', 'influence', 'creativity',\n",
      "       'threat', 'ict_index', 'starts', 'expected_goals', 'expected_assists',\n",
      "       'expected_goal_involvements', 'expected_goals_conceded'],\n",
      "      dtype='object')\n"
     ]
    }
   ],
   "source": [
    "# Exploring Player-Specific Data\n",
    "# Example player ID (can be any valid player ID)\n",
    "player_id = 1\n",
    "player_url = base_url + f'element-summary/{player_id}/'\n",
    "player_data = fetch_data(player_url)\n",
    "\n",
    "if player_data:\n",
    "    # Display keys in player data\n",
    "    print(\"Keys in player data:\", player_data.keys())\n",
    "\n",
    "    # Explore past history\n",
    "    player_history_df = pd.DataFrame(player_data['history_past'])\n",
    "    #print(player_history_df.head())\n",
    "    print(player_history_df.columns)"
   ]
  },
  {
   "cell_type": "markdown",
   "metadata": {},
   "source": [
    "### Player-Specific Data Discovery\n",
    "This endpoint gives detailed information about a specific player, including their fixtures, current season performance, and past season performance.\n",
    "\n",
    "#### Keys in Player Data:\n",
    "1. `fixtures`:\n",
    "* Contains information about upcoming fixtures for the player’s team. This can include details about the match such as the opponent, whether the match is home or away, and the fixture's status.\n",
    "2. `history`:\n",
    "* Provides detailed statistics for each gameweek in the current season. This data is key for analyzing a player’s week-by-week performance.\n",
    "3. `history_past`:\n",
    "* Contains summary data of the player's performance in past seasons. This is useful for historical analysis and understanding a player’s consistency over time.\n",
    "\n",
    "\n",
    "#### Columns in the history_past DataFrame:\n",
    "1. `season_name`: \n",
    "* The name or identifier of the season (e.g., \"2022/23\"). This helps distinguish data from different seasons.\n",
    "2. `element_code`: \n",
    "* A unique identifier for the player. This can be useful when linking data across different datasets or endpoints.\n",
    "3. `start_cost` and `end_cost`: \n",
    "* The player's cost at the start and end of the season. This data can show how a player's value has changed based on performance and demand.\n",
    "4. `total_points`: \n",
    "* The total fantasy points the player accumulated over the season. This is a key metric for assessing a player's overall value in fantasy football.\n",
    "5. `minutes`:\n",
    "* The total minutes the player was on the pitch over the season. It indicates the player's playing time and can correlate with reliability and fitness.\n",
    "6. `goals_scored`:\n",
    "* The number of goals the player scored during the season. This is crucial for assessing offensive players but also can be useful for defensive players who contribute offensively.\n",
    "7. `assists`: \n",
    "* The number of assists provided by the player, another important offensive contribution.\n",
    "8. `clean_sheets`: \n",
    "* The number of matches in which the player’s team kept a clean sheet while the player was on the pitch. Essential for defenders and goalkeepers.\n",
    "9. `goals_conceded`:\n",
    "* The total number of goals conceded by the player's team while the player was on the field. This metric helps assess the defensive capability of defenders and goalkeepers.\n",
    "10. `own_goals`:\n",
    "* Number of own goals scored by the player. This negatively affects a player’s points and is rare.\n",
    "11. `penalties_saved` and `penalties_missed`: \n",
    "* The number of penalties saved (important for goalkeepers) and missed by the player.\n",
    "12. `yellow_cards` and `red_cards`: \n",
    "* The number of yellow and red cards received. Important for assessing discipline and can affect player availability.\n",
    "13. `saves`: \n",
    "* Specific to goalkeepers, the number of saves made. Indicates the goalkeeping activity.\n",
    "14. `bonus` and `bps`: \n",
    "* Bonus points and Bonus Points System (BPS) score. BPS measures a player's overall contribution using various metrics. Bonus points are awarded to the best performers in a match.\n",
    "15. `influence`, `creativity`, `threat`, `ict_index`: \n",
    "* These metrics collectively known as ICT Index represent a player’s Influence (impact on the game), Creativity (assist potential), Threat (goal threat), and a composite ICT Index.\n",
    "16. `starts`: \n",
    "* The number of matches started. It helps gauge the player's importance to the team.\n",
    "17. `expected_goals`, `expected_assists`, `expected_goal_involvements`, `expected_goals_conceded`: \n",
    "* These are advanced metrics indicating the expected number of goals, assists, total goal involvements, and goals conceded, based on the quality of chances. Can be useful for predictive analysis."
   ]
  },
  {
   "cell_type": "code",
   "execution_count": 5,
   "metadata": {},
   "outputs": [
    {
     "name": "stdout",
     "output_type": "stream",
     "text": [
      "Index(['code', 'event', 'finished', 'finished_provisional', 'id',\n",
      "       'kickoff_time', 'minutes', 'provisional_start_time', 'started',\n",
      "       'team_a', 'team_a_score', 'team_h', 'team_h_score', 'stats',\n",
      "       'team_h_difficulty', 'team_a_difficulty', 'pulse_id'],\n",
      "      dtype='object')\n"
     ]
    }
   ],
   "source": [
    "# Exploring Fixture Data\n",
    "# Fetch data from fixtures endpoint\n",
    "fixtures_url = base_url + 'fixtures/'\n",
    "fixtures_data = fetch_data(fixtures_url)\n",
    "\n",
    "if fixtures_data:\n",
    "    # Convert to DataFrame and explore\n",
    "    fixtures_df = pd.DataFrame(fixtures_data)\n",
    "    #print(fixtures_df.head())\n",
    "    print(fixtures_df.columns)"
   ]
  },
  {
   "cell_type": "markdown",
   "metadata": {},
   "source": [
    "### Fixtures Endpoint Discovery\n",
    "This endpoint offers valuable information about the fixtures (matches) scheduled for the current season, including details about the teams involved, match timings, and difficulty ratings.\n",
    "\n",
    "Columns in the Fixtures Data\n",
    "1. `code`:\n",
    "* A unique identifier for the fixture. This code may be useful for linking or referencing specific fixtures across different datasets.\n",
    "2. `event`:\n",
    "* Indicates the gameweek number in which the fixture takes place. This is useful for grouping and analyzing fixtures by gameweek.\n",
    "3. `finished`:\n",
    "* A boolean indicating whether the fixture has been completed. True means the match is finished, and False means it is yet to be played.\n",
    "4. `finished_provisional`:\n",
    "* Similar to finished, this indicates whether the match has been provisionally marked as finished. This may handle cases where results are not yet final or are under review.\n",
    "5. `id`:\n",
    "* A unique identifier for the fixture. This can be used to identify and reference specific fixtures uniquely.\n",
    "6. `kickoff_time`:\n",
    "* The scheduled kickoff time for the fixture. This is in ISO 8601 format (e.g., \"2023-08-14T19:00:00Z\"). It provides precise timing information and can be converted to different time zones as needed.\n",
    "7. `minutes`:\n",
    "* The number of minutes played in the fixture. For completed matches, this would typically be 90 (or more if there was extra time).\n",
    "8. `provisional_start_time`:\n",
    "* A boolean indicating whether the start time of the fixture is provisional. If True, the kickoff time might change.\n",
    "9. `started`:\n",
    "* A boolean indicating whether the fixture has started. True means the match is underway or completed, while False indicates it has not started yet.\n",
    "10. `team_a` and `team_h`:\n",
    "* These fields represent the IDs of the away (team_a) and home (team_h) teams. These IDs can be mapped to actual team names using the teams data from the bootstrap-static endpoint.\n",
    "11. `team_a_score` and `team_h_score`:\n",
    "* The number of goals scored by the away team (team_a_score) and the home team (team_h_score). For finished matches, these fields show the final scores, providing a direct measure of match outcomes.\n",
    "12. `stats`:\n",
    "* This field typically contains a nested list of statistics for the fixture, such as goals, assists, and other relevant performance metrics. It may need further parsing to analyze individual stats.\n",
    "13. `team_h_difficulty` and `team_a_difficulty`:\n",
    "* Numerical ratings indicating the difficulty of the fixture for the home (team_h_difficulty) and away (team_a_difficulty) teams. These ratings are usually on a scale (e.g., 1-5) and can help assess the strength of the opposition.\n",
    "14. `pulse_id`:\n",
    "* Another unique identifier for the fixture, possibly used internally or for linking with other data."
   ]
  },
  {
   "cell_type": "code",
   "execution_count": 6,
   "metadata": {},
   "outputs": [
    {
     "name": "stdout",
     "output_type": "stream",
     "text": [
      "Keys in gameweek data: dict_keys(['elements'])\n",
      "Index(['id', 'stats', 'explain'], dtype='object')\n"
     ]
    }
   ],
   "source": [
    "# Exploring Gameweek Data\n",
    "# Example gameweek ID\n",
    "gameweek_id = 1\n",
    "gameweek_url = base_url + f'event/{gameweek_id}/live/'\n",
    "gameweek_data = fetch_data(gameweek_url)\n",
    "\n",
    "if gameweek_data:\n",
    "    # Display keys in gameweek data\n",
    "    print(\"Keys in gameweek data:\", gameweek_data.keys())\n",
    "\n",
    "    # Explore elements key for live player stats\n",
    "    elements = gameweek_data.get('elements', [])\n",
    "    if elements:\n",
    "        gameweek_df = pd.DataFrame(elements)\n",
    "        #print(gameweek_df.head())\n",
    "        print(gameweek_df.columns)"
   ]
  },
  {
   "cell_type": "markdown",
   "metadata": {},
   "source": [
    "### Gameweek Data Endpoint Discovery\n",
    "This endpoint is valuable for retrieving live or real-time player performance data during a specific gameweek, providing insights into how players are performing as the matches unfold.\n",
    "\n",
    "#### Breakdown of Gameweek Data\n",
    "**Keys in Gameweek Data:**\n",
    "1. `elements`:\n",
    "* This key contains live performance data for players. It typically includes a list of dictionaries, with each dictionary representing a player's live stats during the specific gameweek.\n",
    "\n",
    "**Columns in the elements DataFrame:**\n",
    "1. `id`:\n",
    "* This is the player's unique ID. It can be used to link or reference the player with other datasets, such as those from the bootstrap-static endpoint where comprehensive player information is available.\n",
    "2. `stats`:\n",
    "* This column usually contains a nested dictionary with detailed statistical data for the player during the gameweek. It might include metrics such as points scored, goals, assists, clean sheets, and other relevant fantasy football metrics.\n",
    "3. `explain`:\n",
    "* This column generally provides a breakdown or explanation of how the player's points are calculated for the gameweek. It includes details on specific actions (e.g., goals scored, assists, minutes played) and the corresponding points awarded for those actions."
   ]
  },
  {
   "cell_type": "code",
   "execution_count": 7,
   "metadata": {},
   "outputs": [
    {
     "name": "stdout",
     "output_type": "stream",
     "text": [
      "Keys in league data: dict_keys(['new_entries', 'last_updated_data', 'league', 'standings'])\n",
      "Index(['id', 'event_total', 'player_name', 'rank', 'last_rank', 'rank_sort',\n",
      "       'total', 'entry', 'entry_name'],\n",
      "      dtype='object')\n"
     ]
    }
   ],
   "source": [
    "# Exploring League Data\n",
    "# Example league ID\n",
    "league_id = 314  # Replace with a valid league ID\n",
    "league_url = base_url + f'leagues-classic/{league_id}/standings/'\n",
    "league_data = fetch_data(league_url)\n",
    "\n",
    "if league_data:\n",
    "    # Display keys in league data\n",
    "    print(\"Keys in league data:\", league_data.keys())\n",
    "\n",
    "    # Explore standings\n",
    "    standings_df = pd.DataFrame(league_data['standings']['results'])\n",
    "    #print(standings_df.head())\n",
    "    print(standings_df.columns)\n"
   ]
  },
  {
   "cell_type": "markdown",
   "metadata": {},
   "source": [
    "### League Data Discovery\n",
    "This endpoint provides insights into how leagues are performing and it's not needed data.\n"
   ]
  },
  {
   "cell_type": "markdown",
   "metadata": {},
   "source": [
    "# Summary and Next Steps\n",
    "\n",
    "Based on the exploration of various endpoints, these data points that can be useful for analysis:\n",
    "\n",
    "1. **Player Data**: Current season stats, historical performance, and live gameweek data.\n",
    "2. **Fixtures**: Information on past and upcoming matches, which can be used for contextual analysis.\n",
    "\n",
    "### Next Steps:\n",
    "- **Deeper Analysis**: Use the historical player data to identify trends and patterns.\n",
    "- **Feature Engineering**: Create new features based on fixture difficulty, player form, etc.\n",
    "- **Modeling**: Use the data to build predictive models for player performance, team selection, and more.\n"
   ]
  }
 ],
 "metadata": {
  "kernelspec": {
   "display_name": "nu-dev",
   "language": "python",
   "name": "python3"
  },
  "language_info": {
   "codemirror_mode": {
    "name": "ipython",
    "version": 3
   },
   "file_extension": ".py",
   "mimetype": "text/x-python",
   "name": "python",
   "nbconvert_exporter": "python",
   "pygments_lexer": "ipython3",
   "version": "3.11.9"
  }
 },
 "nbformat": 4,
 "nbformat_minor": 2
}
