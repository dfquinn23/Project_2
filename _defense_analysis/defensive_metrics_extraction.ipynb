{
 "cells": [
  {
   "cell_type": "markdown",
   "metadata": {},
   "source": [
    "This notebook will focus on:\n",
    "1. Fetching data from the API.\n",
    "2. Selecting and extracting relevant fields.\n",
    "3. Preprocessing and cleaning the data (handling missing values, normalizing, etc.).\n",
    "4. Saving cleaned and processed data into CSV files for further analysis."
   ]
  },
  {
   "cell_type": "code",
   "execution_count": 22,
   "metadata": {},
   "outputs": [
    {
     "name": "stdout",
     "output_type": "stream",
     "text": [
      "  first_name           second_name  team  element_type  clean_sheets  \\\n",
      "0      Fábio       Ferreira Vieira     1             3             0   \n",
      "1    Gabriel     Fernando de Jesus     1             4             0   \n",
      "2    Gabriel  dos Santos Magalhães     1             2             2   \n",
      "3        Kai               Havertz     1             4             2   \n",
      "4       Karl                  Hein     1             1             0   \n",
      "\n",
      "   goals_conceded  yellow_cards  red_cards  minutes  bps  starts  own_goals  \n",
      "0               0             0          0        0    0       0          0  \n",
      "1               0             1          0        5    1       0          0  \n",
      "2               0             1          0      180   47       2          0  \n",
      "3               0             0          0      180   46       2          0  \n",
      "4               0             0          0        0    0       0          0  \n"
     ]
    }
   ],
   "source": [
    "import requests\n",
    "import pandas as pd\n",
    "\n",
    "import matplotlib.pyplot as plt\n",
    "\n",
    "\n",
    "# API Endpoint\n",
    "url = 'https://fantasy.premierleague.com/api/bootstrap-static/'\n",
    "\n",
    "# Send a GET request to the API\n",
    "response = requests.get(url)\n",
    "\n",
    "# Check if the request was successful\n",
    "if response.status_code == 200:\n",
    "    data = response.json()\n",
    "    \n",
    "    # Extract player data from the 'elements' key\n",
    "    players = data['elements']\n",
    "    \n",
    "    # Create a DataFrame with the relevant defensive metrics\n",
    "    df = pd.DataFrame(players)\n",
    "    \n",
    "    # Select relevant columns for defensive analysis\n",
    "    defensive_metrics_df = df[['first_name', 'second_name', 'team', 'element_type', 'clean_sheets', \n",
    "                               'goals_conceded', 'yellow_cards', 'red_cards', 'minutes', \n",
    "                               'bps', 'starts', 'own_goals']]\n",
    "    \n",
    "    # Display the first few rows of the DataFrame\n",
    "    print(defensive_metrics_df.head())\n",
    "else:\n",
    "    print(f\"Failed to retrieve data. Status code: {response.status_code}\")"
   ]
  },
  {
   "cell_type": "code",
   "execution_count": 23,
   "metadata": {},
   "outputs": [
    {
     "name": "stdout",
     "output_type": "stream",
     "text": [
      "   first_name           second_name     team element_type  clean_sheets  \\\n",
      "2     Gabriel  dos Santos Magalhães  Arsenal     Defender             2   \n",
      "5     Jurriën                Timber  Arsenal     Defender             1   \n",
      "7       Jakub                Kiwior  Arsenal     Defender             0   \n",
      "17    William                Saliba  Arsenal     Defender             2   \n",
      "19     Kieran               Tierney  Arsenal     Defender             0   \n",
      "\n",
      "    goals_conceded  yellow_cards  red_cards  minutes  bps  starts  own_goals  \n",
      "2                0             1          0      180   47       2          0  \n",
      "5                0             0          0       99   26       1          0  \n",
      "7                0             0          0        0    0       0          0  \n",
      "17               0             0          0      180   50       2          0  \n",
      "19               0             0          0        0    0       0          0  \n"
     ]
    },
    {
     "name": "stderr",
     "output_type": "stream",
     "text": [
      "/var/folders/h3/xtqxxtn9551c8dd44chd8lbc0000gn/T/ipykernel_89027/1846421686.py:10: SettingWithCopyWarning: \n",
      "A value is trying to be set on a copy of a slice from a DataFrame.\n",
      "Try using .loc[row_indexer,col_indexer] = value instead\n",
      "\n",
      "See the caveats in the documentation: https://pandas.pydata.org/pandas-docs/stable/user_guide/indexing.html#returning-a-view-versus-a-copy\n",
      "  defensive_metrics_df['element_type'] = defensive_metrics_df['element_type'].map(position_mapping)\n"
     ]
    }
   ],
   "source": [
    "# Mapping for element_type (position type)\n",
    "position_mapping = {\n",
    "    1: 'Goalkeeper',\n",
    "    2: 'Defender',\n",
    "    3: 'Midfielder',\n",
    "    4: 'Forward'\n",
    "}\n",
    "\n",
    "# Apply the mapping to the 'element_type' column\n",
    "defensive_metrics_df['element_type'] = defensive_metrics_df['element_type'].map(position_mapping)\n",
    "\n",
    "# Filter the DataFrame to include only rows where 'element_type' is 'Defender'\n",
    "defensive_metrics_df = defensive_metrics_df[defensive_metrics_df['element_type'] == 'Defender']\n",
    "\n",
    "# Mapping team codes to team names\n",
    "team_mapping = {team['id']: team['name'] for team in data['teams']}\n",
    "defensive_metrics_df['team'] = defensive_metrics_df['team'].map(team_mapping)\n",
    "\n",
    "# Display the updated DataFrame\n",
    "print(defensive_metrics_df.head())"
   ]
  },
  {
   "cell_type": "markdown",
   "metadata": {},
   "source": [
    "Data Cleaning"
   ]
  },
  {
   "cell_type": "code",
   "execution_count": 24,
   "metadata": {},
   "outputs": [
    {
     "name": "stdout",
     "output_type": "stream",
     "text": [
      "first_name        0\n",
      "second_name       0\n",
      "team              0\n",
      "element_type      0\n",
      "clean_sheets      0\n",
      "goals_conceded    0\n",
      "yellow_cards      0\n",
      "red_cards         0\n",
      "minutes           0\n",
      "bps               0\n",
      "starts            0\n",
      "own_goals         0\n",
      "dtype: int64\n"
     ]
    }
   ],
   "source": [
    "# Check for missing values\n",
    "print(defensive_metrics_df.isnull().sum())"
   ]
  },
  {
   "cell_type": "code",
   "execution_count": 25,
   "metadata": {},
   "outputs": [
    {
     "name": "stdout",
     "output_type": "stream",
     "text": [
      "<class 'pandas.core.frame.DataFrame'>\n",
      "Index: 207 entries, 2 to 632\n",
      "Data columns (total 12 columns):\n",
      " #   Column          Non-Null Count  Dtype \n",
      "---  ------          --------------  ----- \n",
      " 0   first_name      207 non-null    object\n",
      " 1   second_name     207 non-null    object\n",
      " 2   team            207 non-null    object\n",
      " 3   element_type    207 non-null    object\n",
      " 4   clean_sheets    207 non-null    int64 \n",
      " 5   goals_conceded  207 non-null    int64 \n",
      " 6   yellow_cards    207 non-null    int64 \n",
      " 7   red_cards       207 non-null    int64 \n",
      " 8   minutes         207 non-null    int64 \n",
      " 9   bps             207 non-null    int64 \n",
      " 10  starts          207 non-null    int64 \n",
      " 11  own_goals       207 non-null    int64 \n",
      "dtypes: int64(8), object(4)\n",
      "memory usage: 21.0+ KB\n"
     ]
    }
   ],
   "source": [
    "defensive_metrics_df.info()"
   ]
  },
  {
   "cell_type": "code",
   "execution_count": 26,
   "metadata": {},
   "outputs": [
    {
     "name": "stdout",
     "output_type": "stream",
     "text": [
      "   first_name           second_name     team element_type  clean_sheets  \\\n",
      "2     Gabriel  dos Santos Magalhães  Arsenal     Defender             2   \n",
      "5     Jurriën                Timber  Arsenal     Defender             1   \n",
      "7       Jakub                Kiwior  Arsenal     Defender             0   \n",
      "17    William                Saliba  Arsenal     Defender             2   \n",
      "19     Kieran               Tierney  Arsenal     Defender             0   \n",
      "\n",
      "    goals_conceded  yellow_cards  red_cards  minutes  bps  starts  own_goals  \\\n",
      "2                0             1          0      180   47       2          0   \n",
      "5                0             0          0       99   26       1          0   \n",
      "7                0             0          0        0    0       0          0   \n",
      "17               0             0          0      180   50       2          0   \n",
      "19               0             0          0        0    0       0          0   \n",
      "\n",
      "    clean_sheets_per_90  goals_conceded_per_90  bps_per_90  \n",
      "2              1.000000                    0.0   23.500000  \n",
      "5              0.909091                    0.0   23.636364  \n",
      "7              0.000000                    0.0    0.000000  \n",
      "17             1.000000                    0.0   25.000000  \n",
      "19             0.000000                    0.0    0.000000  \n"
     ]
    }
   ],
   "source": [
    "# Normalize the relevant metrics to account for playing time differences.\n",
    "\n",
    "# Calculate per 90-minute statistics\n",
    "defensive_metrics_df['clean_sheets_per_90'] = (defensive_metrics_df['clean_sheets'] / defensive_metrics_df['minutes']) * 90\n",
    "defensive_metrics_df['goals_conceded_per_90'] = (defensive_metrics_df['goals_conceded'] / defensive_metrics_df['minutes']) * 90\n",
    "defensive_metrics_df['bps_per_90'] = (defensive_metrics_df['bps'] / defensive_metrics_df['minutes']) * 90\n",
    "\n",
    "# Fill NaN values resulting from normalization (e.g., players with zero minutes)\n",
    "defensive_metrics_df.fillna(0, inplace=True)\n",
    "\n",
    "# Display the updated DataFrame\n",
    "print(defensive_metrics_df.head())"
   ]
  },
  {
   "cell_type": "markdown",
   "metadata": {},
   "source": [
    "Exploratory Data Analysis (EDA):"
   ]
  },
  {
   "cell_type": "code",
   "execution_count": 32,
   "metadata": {},
   "outputs": [
    {
     "data": {
      "text/plain": [
       "starts    2\n",
       "dtype: int64"
      ]
     },
     "execution_count": 32,
     "metadata": {},
     "output_type": "execute_result"
    }
   ],
   "source": [
    "defensive_metrics_df[['starts']].max()"
   ]
  }
 ],
 "metadata": {
  "kernelspec": {
   "display_name": "nu-dev",
   "language": "python",
   "name": "python3"
  },
  "language_info": {
   "codemirror_mode": {
    "name": "ipython",
    "version": 3
   },
   "file_extension": ".py",
   "mimetype": "text/x-python",
   "name": "python",
   "nbconvert_exporter": "python",
   "pygments_lexer": "ipython3",
   "version": "3.12.2"
  }
 },
 "nbformat": 4,
 "nbformat_minor": 2
}
